{
  "nbformat": 4,
  "nbformat_minor": 0,
  "metadata": {
    "colab": {
      "provenance": [],
      "include_colab_link": true
    },
    "kernelspec": {
      "name": "python3",
      "display_name": "Python 3"
    },
    "language_info": {
      "name": "python"
    }
  },
  "cells": [
    {
      "cell_type": "markdown",
      "metadata": {
        "id": "view-in-github",
        "colab_type": "text"
      },
      "source": [
        "<a href=\"https://colab.research.google.com/github/Benjamin-Kurth/myfirstrepository/blob/main/if_else.ipynb\" target=\"_parent\"><img src=\"https://colab.research.google.com/assets/colab-badge.svg\" alt=\"Open In Colab\"/></a>"
      ]
    },
    {
      "cell_type": "markdown",
      "source": [
        "## Aufgaben für if-else-Verzweigungen\n",
        "\n",
        "\n",
        "1.  Schreibe ein Programm, das eine Zahl überprüft: Wenn die Zahl negativ ist, gib \"Negativ\" aus, wenn 0 gib \"Null\" aus, wenn positiv, dann \"Positiv\"\n",
        "\n",
        "\n",
        "\n",
        "\n",
        "2.   Erstelle eine if-elif-else-Struktur, die eine Temperatur bewertet: Bei unter 0 Grad: \"Sehr kalt\", bei 0-10 Grad: \"Kalt\", bei 11-20 Grad: \"Mild\", bei 21-30 Grad: \"Warm\", bei über 30 Grad: \"Heiß\""
      ],
      "metadata": {
        "id": "abi1Aq6Pt7im"
      }
    },
    {
      "cell_type": "markdown",
      "source": [
        "Aufgabe 1.)"
      ],
      "metadata": {
        "id": "Tuswy0RdwQL_"
      }
    },
    {
      "cell_type": "code",
      "source": [
        "zahl = 0\n",
        "if zahl == 0:\n",
        "  print(\"null\")\n",
        "elif zahl < 0:\n",
        "  print(\"negativ\")\n",
        "elif zahl > 0:\n",
        "  print(\"positiv\")\n"
      ],
      "metadata": {
        "colab": {
          "base_uri": "https://localhost:8080/"
        },
        "id": "iL7IuAQFwPPJ",
        "outputId": "db91abf5-4a5b-4a4d-bfdc-ebfd6c45fe65"
      },
      "execution_count": 39,
      "outputs": [
        {
          "output_type": "stream",
          "name": "stdout",
          "text": [
            "null\n"
          ]
        }
      ]
    },
    {
      "cell_type": "markdown",
      "source": [
        "Aufgabe 2.)"
      ],
      "metadata": {
        "id": "9qxqEeupxhjr"
      }
    },
    {
      "cell_type": "code",
      "source": [
        "Temperatur = 5\n",
        "if Temperatur < 0:\n",
        "  print(\"Sehr kalt\")\n",
        "elif Temperatur <= 10:\n",
        "  print(\"kalt\")\n",
        "elif Temperatur <= 20:\n",
        "  print(\"mild\")\n",
        "elif Temperatur <= 30:\n",
        "  print(\"warm\")\n",
        "else:\n",
        "  print(\"heiß\")"
      ],
      "metadata": {
        "colab": {
          "base_uri": "https://localhost:8080/"
        },
        "id": "d4yWhAJsxj9C",
        "outputId": "30e5b637-ca99-4ac1-d49e-27cfee7cb0bf"
      },
      "execution_count": 36,
      "outputs": [
        {
          "output_type": "stream",
          "name": "stdout",
          "text": [
            "kalt\n"
          ]
        }
      ]
    }
  ]
}