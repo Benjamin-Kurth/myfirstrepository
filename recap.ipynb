{
  "nbformat": 4,
  "nbformat_minor": 0,
  "metadata": {
    "colab": {
      "provenance": [],
      "include_colab_link": true
    },
    "kernelspec": {
      "name": "python3",
      "display_name": "Python 3"
    },
    "language_info": {
      "name": "python"
    }
  },
  "cells": [
    {
      "cell_type": "markdown",
      "metadata": {
        "id": "view-in-github",
        "colab_type": "text"
      },
      "source": [
        "<a href=\"https://colab.research.google.com/github/Benjamin-Kurth/myfirstrepository/blob/main/recap.ipynb\" target=\"_parent\"><img src=\"https://colab.research.google.com/assets/colab-badge.svg\" alt=\"Open In Colab\"/></a>"
      ]
    },
    {
      "cell_type": "markdown",
      "source": [
        "# Willkommen in Google Colab!\n",
        " In Google Colab kannst du Code direkt ausführen und mit den Ergebnissen interaktiv arbeiten.\n",
        "Probier es aus, indem du auf \"Play\" neben der Zelle klickst oder Shift+Enter drückst!\n",
        "\n",
        "Nimm dieses Notebook und füge deinen Code hinzu an den passenden Stellen. Abgabe: Gehe oben links auf Datei, dann auf Herunterladen, dann auf .ipynb. Dann startet ein Download des Notebooks. Diese heruntergeladene Datei fügst du bitte als Abgabe in den Classroom ein.\n"
      ],
      "metadata": {
        "id": "P5_Z397OqQRc"
      }
    },
    {
      "cell_type": "markdown",
      "source": [
        "# Teil 1: ,,eintippen\"\n",
        "\n",
        "So wie jede/r gute Musiker/in zu Beginn das eigene Instrument mit kleinen Fingerübungen einspielt, bevor das aktuelle Stück eingeübt wird, so werden wir uns ein wenig ins Coden ,,eintippen\""
      ],
      "metadata": {
        "id": "QOrrFrQp3fey"
      }
    },
    {
      "cell_type": "markdown",
      "source": [
        "## 1. Print-Befehl - Text ausgeben\n",
        " Der print-Befehl wird verwendet, um Text auf dem Bildschirm auszugeben."
      ],
      "metadata": {
        "id": "x6a2Gj5Gq4oR"
      }
    },
    {
      "cell_type": "markdown",
      "source": [
        "Hier wird \"Hallo, Welt!\" auf dem Bildschirm angezeigt.\n",
        "Probier es aus, indem du auf Play drückst"
      ],
      "metadata": {
        "id": "GcKAxpB2rFaw"
      }
    },
    {
      "cell_type": "code",
      "source": [
        "print(\"Hallo, Welt!\")"
      ],
      "metadata": {
        "id": "PLzIe2PiqcEE",
        "colab": {
          "base_uri": "https://localhost:8080/"
        },
        "outputId": "2c5e0aee-05ad-4295-99e1-f2d76ce9087e"
      },
      "execution_count": null,
      "outputs": [
        {
          "output_type": "stream",
          "name": "stdout",
          "text": [
            "Hallo, Welt!\n"
          ]
        }
      ]
    },
    {
      "cell_type": "markdown",
      "source": [
        "Super, lass uns noch etwas weitergehen\n",
        "\n",
        "Wenn du den Text ohne Anführungszeichen schreibst, bekommst du einen Fehler.\n",
        "Dies führt zu einem Fehler! Versuche es mal selbst, wenn du es nicht glaubst."
      ],
      "metadata": {
        "id": "orTpZfLVrPZ8"
      }
    },
    {
      "cell_type": "code",
      "source": [
        " print(Hi there!)"
      ],
      "metadata": {
        "id": "sHkJujvorY9O",
        "colab": {
          "base_uri": "https://localhost:8080/",
          "height": 106
        },
        "outputId": "793cb310-4290-4d14-c4e2-37490cc731d5"
      },
      "execution_count": null,
      "outputs": [
        {
          "output_type": "error",
          "ename": "SyntaxError",
          "evalue": "invalid syntax. Perhaps you forgot a comma? (<ipython-input-6-5d88422fbdec>, line 1)",
          "traceback": [
            "\u001b[0;36m  File \u001b[0;32m\"<ipython-input-6-5d88422fbdec>\"\u001b[0;36m, line \u001b[0;32m1\u001b[0m\n\u001b[0;31m    print(Hi there!)\u001b[0m\n\u001b[0m          ^\u001b[0m\n\u001b[0;31mSyntaxError\u001b[0m\u001b[0;31m:\u001b[0m invalid syntax. Perhaps you forgot a comma?\n"
          ]
        }
      ]
    },
    {
      "cell_type": "markdown",
      "source": [
        "## 2. Programmierübung: Emoticon\n",
        "Dein Ziel ist es, ein Emoticon auszugeben: :-).\n",
        "Schreibe den Python-Code, um das Emoticon korrekt auszugeben."
      ],
      "metadata": {
        "id": "boElnUk3rmE-"
      }
    },
    {
      "cell_type": "code",
      "source": [
        "print(\":-)\")"
      ],
      "metadata": {
        "id": "vzNGVexZrpCC",
        "colab": {
          "base_uri": "https://localhost:8080/"
        },
        "outputId": "75d7590c-5c01-4ce2-dec8-89fa249e596c"
      },
      "execution_count": null,
      "outputs": [
        {
          "output_type": "stream",
          "name": "stdout",
          "text": [
            ":-)\n"
          ]
        }
      ]
    },
    {
      "cell_type": "markdown",
      "source": [
        "## 3. Mehrere Befehle hintereinander ausführen\n",
        " Mehrere Befehle können hintereinander ausgeführt werden, um mehrere Zeilen auszugeben.\n",
        "Beispiel:"
      ],
      "metadata": {
        "id": "Cke_GA_-ryg7"
      }
    },
    {
      "cell_type": "code",
      "source": [
        "print(\"Willkommen in der Einführung in die Programmierung!\")\n",
        "print(\"Wir üben heute den Einsatz des Print-Befehls.\")\n",
        "print(\"Dieses Programm gibt drei Zeilen Text aus.\")"
      ],
      "metadata": {
        "id": "MMlK5MCtr9JD",
        "colab": {
          "base_uri": "https://localhost:8080/"
        },
        "outputId": "93c8916b-71d5-4cf4-f3f3-ef176aaad081"
      },
      "execution_count": null,
      "outputs": [
        {
          "output_type": "stream",
          "name": "stdout",
          "text": [
            "Willkommen in der Einführung in die Programmierung!\n",
            "Wir üben heute den Einsatz des Print-Befehls.\n",
            "Dieses Programm gibt drei Zeilen Text aus.\n"
          ]
        }
      ]
    },
    {
      "cell_type": "markdown",
      "source": [
        "## 4. Programmierübung: Fixe den Code: Hogwarts-Schüler\n",
        "In dieser Übung möchtest du die Namen der Hogwarts-Schüler in alphabetischer Reihenfolge ausgeben.\n",
        "Der folgende Code soll die Namen der Schüler aus der Harry-Potter-Reihe ausgeben, aber der Code funktioniert nicht ganz richtig.\n",
        "Dein Ziel ist es, den Code so zu ändern, dass die Namen in alphabetischer Reihenfolge erscheinen.\n",
        "\n",
        "Falsche Ausgabe (hier ist der Fehler):\n",
        "\n",
        "```\n",
        "print(\"Harry Potter\")\n",
        "print(\"Hermione Granger\")\n",
        "print(\"Ron Weasley\")\n",
        "print(\"Draco Malfoy\")\n",
        "print(\"Neville Longbottom\")\n",
        "print(\"Luna Lovegood\")\n",
        "print(\"Ginny Weasley\")\n",
        "```\n",
        "\n",
        "\n",
        "\n"
      ],
      "metadata": {
        "id": "XGcF2s9osSGn"
      }
    },
    {
      "cell_type": "code",
      "source": [
        "#fortgeschrittene Lösung\n",
        "Schüler = [\n",
        "\"Harry Potter\",\n",
        "\"Hermione Granger\",\n",
        "\"Ron Weasley\",\n",
        "\"Draco Malfoy\",\n",
        "\"Neville Longbottom\",\n",
        "\"Luna Lovegood\",\n",
        "\"Ginny Weasley\"\n",
        "]\n",
        "Schüler.sort()\n",
        "\n",
        "for name in Schüler:\n",
        "  print(name)"
      ],
      "metadata": {
        "id": "IvmyT7jXscAo",
        "colab": {
          "base_uri": "https://localhost:8080/"
        },
        "outputId": "41f6c5f8-d57d-43ad-fa80-4565a3787bb6"
      },
      "execution_count": null,
      "outputs": [
        {
          "output_type": "stream",
          "name": "stdout",
          "text": [
            "Draco Malfoy\n",
            "Ginny Weasley\n",
            "Harry Potter\n",
            "Hermione Granger\n",
            "Luna Lovegood\n",
            "Neville Longbottom\n",
            "Ron Weasley\n"
          ]
        }
      ]
    },
    {
      "cell_type": "code",
      "source": [
        "#einfache Lösung\n",
        "#alles selber nach Alphabet sortieren und Ausgeben lassen.\n",
        "print(\"Draco Malfoy\")\n",
        "print(\"Ginny Weasley\")\n",
        "print(\"Harry Potter\")\n",
        "print(\"Hermione Granger\")\n",
        "print(\"Luna Lovegood\")\n",
        "print(\"Neville Longbottom\")\n",
        "print(\"Ron Weasley\")"
      ],
      "metadata": {
        "colab": {
          "base_uri": "https://localhost:8080/"
        },
        "id": "gGR1AJWtlL2x",
        "outputId": "3ec4db3c-baab-454b-e394-c56cbcb0e4c1"
      },
      "execution_count": null,
      "outputs": [
        {
          "output_type": "stream",
          "name": "stdout",
          "text": [
            "Draco Malfoy\n",
            "Ginny Weasley\n",
            "Harry Potter\n",
            "Hermione Granger\n",
            "Luna Lovegood\n",
            "Neville Longbottom\n",
            "Ron Weasley\n"
          ]
        }
      ]
    },
    {
      "cell_type": "markdown",
      "source": [
        "## 5. Programmierübung: Der Erlkönig\n",
        "Schreibe ein Programm, das genau die folgenden Zeilen ausgibt:\n",
        "\n",
        "```\n",
        "Wer reitet so spät durch Nacht und Wind?\n",
        "Es ist der Vater mit seinem Kind;\n",
        "Er hat den Knaben wohl in dem Arm,\n",
        "Er fasst ihn sicher, er hält ihn warm.\n",
        "```\n",
        "\n"
      ],
      "metadata": {
        "id": "b2gGmNClsmsY"
      }
    },
    {
      "cell_type": "code",
      "source": [
        "#einfache Lösung\n",
        "print(\"Wer reitet so spät durch Nacht und Wind?\")\n",
        "print(\"Es ist der Vater mit seinem Kind;\")\n",
        "print(\"Er hat den Knaben wohl in dem Arm,\")\n",
        "print(\"Er fasst ihn sicher, er hält ihn warm.\")"
      ],
      "metadata": {
        "id": "Y8Tx7JUotHeJ",
        "colab": {
          "base_uri": "https://localhost:8080/"
        },
        "outputId": "ccb58639-d3b4-4ef7-e43c-759ea9fbfcd3"
      },
      "execution_count": null,
      "outputs": [
        {
          "output_type": "stream",
          "name": "stdout",
          "text": [
            "Wer reitet so spät durch Nacht und Wind?\n",
            "Es ist der Vater mit seinem Kind;\n",
            "Er hat den Knaben wohl in dem Arm,\n",
            "Er fasst ihn sicher, er hält ihn warm.\n"
          ]
        }
      ]
    },
    {
      "cell_type": "code",
      "source": [
        "#fortgeschrittene Lösung mit Zeilenumbruch = \\n\\\n",
        "print(\"Wer reitet so spät durch Nacht und Wind?\\n\\\n",
        "Es ist der Vater mit seinem Kind;\\n\\\n",
        "Er hat den Knaben wohl in dem Arm,\\n\\\n",
        "Er fasst ihn sicher, er hält ihn warm.\")"
      ],
      "metadata": {
        "colab": {
          "base_uri": "https://localhost:8080/"
        },
        "id": "8d957y90mMHD",
        "outputId": "9f894b7d-4f08-450a-eeee-9086e2b4ca3a"
      },
      "execution_count": null,
      "outputs": [
        {
          "output_type": "stream",
          "name": "stdout",
          "text": [
            "Wer reitet so spät durch Nacht und Wind?\n",
            "Es ist der Vater mit seinem Kind;\n",
            "Er hat den Knaben wohl in dem Arm,\n",
            "Er fasst ihn sicher, er hält ihn warm.\n"
          ]
        }
      ]
    },
    {
      "cell_type": "code",
      "source": [
        "#einfache fortgeschrittene Lösung = \"\"\" am Anfang und Ende, sagt aus, alles genau so wiederzugeben, wie es eingegeben wurde.\n",
        "print(\"\"\"Wer reitet so spät durch Nacht und Wind?\n",
        "Es ist der Vater mit seinem Kind;\n",
        "Er hat den Knaben wohl in dem Arm,\n",
        "Er fasst ihn sicher, er hält ihn warm.\"\"\")"
      ],
      "metadata": {
        "colab": {
          "base_uri": "https://localhost:8080/"
        },
        "id": "phWzZulenG3d",
        "outputId": "343e4338-10cd-4c9c-caeb-8a28608fa5d8"
      },
      "execution_count": null,
      "outputs": [
        {
          "output_type": "stream",
          "name": "stdout",
          "text": [
            "Wer reitet so spät durch Nacht und Wind?\n",
            "Es ist der Vater mit seinem Kind;\n",
            "Er hat den Knaben wohl in dem Arm,\n",
            "Er fasst ihn sicher, er hält ihn warm.\n"
          ]
        }
      ]
    },
    {
      "cell_type": "markdown",
      "source": [
        "## 6. Arithmetische Operationen\n",
        "\n",
        "Du kannst auch arithmetische Operationen innerhalb des Print-Befehls ausführen.\n",
        "Zum Beispiel:\n"
      ],
      "metadata": {
        "id": "5SxP2BnAtJLn"
      }
    },
    {
      "cell_type": "code",
      "source": [
        "print(2 + 5)   # Addition\n",
        "print(3 * 3)   # Multiplikation\n",
        "print(2 + 2 * 10)  # Punkt-vor-Strich-Rechnung"
      ],
      "metadata": {
        "id": "yjDbnhk1tUNO",
        "colab": {
          "base_uri": "https://localhost:8080/"
        },
        "outputId": "56db3c95-725d-4a0d-ade9-c314e3f87cb9"
      },
      "execution_count": null,
      "outputs": [
        {
          "output_type": "stream",
          "name": "stdout",
          "text": [
            "7\n",
            "9\n",
            "22\n"
          ]
        }
      ]
    },
    {
      "cell_type": "markdown",
      "source": [
        "### Hinweis: Achte darauf, dass keine Anführungszeichen um die arithmetischen Operationen gesetzt werden.\n",
        "Arithmetische Operationen werden anders behandelt als Strings."
      ],
      "metadata": {
        "id": "TCSUw6IUtZJ7"
      }
    },
    {
      "cell_type": "code",
      "source": [
        "# Beispiel mit und ohne Anführungszeichen:\n",
        "print(2 + 2 * 10)  # Berechnet den Wert\n",
        "print(\"2 + 2 * 10\")  # Gibt den Ausdruck als Text aus, ohne ihn zu berechnen"
      ],
      "metadata": {
        "id": "g56iHTSrtdJe",
        "colab": {
          "base_uri": "https://localhost:8080/"
        },
        "outputId": "a7471d33-3b10-48f2-fdc1-cdbf60f99770"
      },
      "execution_count": null,
      "outputs": [
        {
          "output_type": "stream",
          "name": "stdout",
          "text": [
            "22\n",
            "2 + 2 * 10\n"
          ]
        }
      ]
    },
    {
      "cell_type": "markdown",
      "source": [],
      "metadata": {
        "id": "oXEUs306oG0k"
      }
    },
    {
      "cell_type": "markdown",
      "source": [
        "## 7. Kommentare\n",
        "Jede Zeile, die mit einem # beginnt, ist ein Kommentar und wird vom Programm ignoriert.\n"
      ],
      "metadata": {
        "id": "cj0hzl-ptf4a"
      }
    },
    {
      "cell_type": "code",
      "source": [
        "# Kommentare helfen, den Code zu erklären und für andere verständlich zu machen.\n",
        "print(\"Stunden im Jahr:\")\n",
        "# In einem Jahr gibt es 365 Tage und 24 Stunden an jedem Tag.\n",
        "print(365 * 24)"
      ],
      "metadata": {
        "id": "6yyDsxEXtj4a",
        "colab": {
          "base_uri": "https://localhost:8080/"
        },
        "outputId": "f424c762-898e-44f7-bf44-0f8f0af22f43"
      },
      "execution_count": null,
      "outputs": [
        {
          "output_type": "stream",
          "name": "stdout",
          "text": [
            "Stunden im Jahr:\n",
            "8760\n"
          ]
        }
      ]
    },
    {
      "cell_type": "markdown",
      "source": [
        "## 8. Programmierübung: Minuten im Jahr\n",
        " Schreibe ein Programm, das die Anzahl der Minuten in einem Jahr berechnet.\n",
        " Tipp: Multipliziere 365 Tage mit 24 Stunden und 60 Minuten pro Stunde.\n"
      ],
      "metadata": {
        "id": "h-CVgk8AtnAp"
      }
    },
    {
      "cell_type": "code",
      "source": [
        "Tage_im_Jahr = 365\n",
        "Stunden_am_Tag = 24\n",
        "Minuten_pro_Stunde = 60\n",
        "Minuten_im_Jahr = ((Tage_im_Jahr * Stunden_am_Tag) * Minuten_pro_Stunde)\n",
        "print(\"Anzahl der Minuten in einem Jahr:\", Minuten_im_Jahr)"
      ],
      "metadata": {
        "id": "4nK984tztrMz",
        "colab": {
          "base_uri": "https://localhost:8080/"
        },
        "outputId": "9f141e88-1dd2-44ff-d5e5-7d688b1f1180"
      },
      "execution_count": null,
      "outputs": [
        {
          "output_type": "stream",
          "name": "stdout",
          "text": [
            "Anzahl der Minuten in einem Jahr: 525600\n"
          ]
        }
      ]
    },
    {
      "cell_type": "markdown",
      "source": [
        "---\n",
        "\n",
        "# Teil 2: es geht weiter\n",
        "\n",
        "### 3. Input - Eingabe"
      ],
      "metadata": {
        "id": "ALwdD9mmuuy4"
      }
    },
    {
      "cell_type": "markdown",
      "source": [
        "**Eingabe** bezieht sich auf alle Informationen, die ein Benutzer dem Programm gibt. Insbesondere `input` liest der Python-Befehl eine vom Benutzer eingegebene Eingabezeile ein. Er kann auch verwendet werden, um dem Benutzer eine Nachricht anzuzeigen, um ihn zur Eingabe einer bestimmten Eingabe aufzufordern.\n",
        "\n",
        "Das folgende Programm liest den Namen des Benutzers mit dem inputBefehl ein. Anschließend druckt es ihn mit dem printBefehl aus:"
      ],
      "metadata": {
        "id": "CgwJR7vO4Jzc"
      }
    },
    {
      "cell_type": "code",
      "source": [
        "name = input(\"Wie lautet dein Name? \")\n",
        "print(\"Halli Hallo, \" + name)"
      ],
      "metadata": {
        "id": "GHM5UYIo4iZ0",
        "colab": {
          "base_uri": "https://localhost:8080/"
        },
        "outputId": "ee66a123-c142-42d8-e172-c3c8cf746827"
      },
      "execution_count": null,
      "outputs": [
        {
          "output_type": "stream",
          "name": "stdout",
          "text": [
            "Wie lautet dein Name? Benny\n",
            "Halli Hallo, Benny\n"
          ]
        }
      ]
    },
    {
      "cell_type": "markdown",
      "source": [
        "Das Wort `name `in diesem Programm ist eine Variable . Im Kontext der Programmierung ist eine **Variable** ein Ort zum Speichern eines Wertes , beispielsweise einer Zeichenfolge oder einer Zahl. Dieser Wert kann später verwendet und auch geändert werden.\n",
        "\n",
        "Es ist eine gängige internationale Programmierpraxis, Variablen auf Englisch zu benennen. Der Name der Variable hat keine direkte Auswirkung auf ihren Inhalt, daher ist der Name in diesem Sinne nicht wichtig. Es kann jedoch oft hilfreich sein, die Funktionsweise von Code zu verstehen, wenn Variablen logisch und auf Englisch benannt sind."
      ],
      "metadata": {
        "id": "8FXHOoQe4xWQ"
      }
    },
    {
      "cell_type": "markdown",
      "source": [
        "Auf eine einzelne Variable kann in einem Programm viele Male verwiesen werden:\n",
        "\n"
      ],
      "metadata": {
        "id": "SESV7n4P5CVJ"
      }
    },
    {
      "cell_type": "code",
      "source": [
        "name = input(\"Wie lautet dein Name? \")\n",
        "\n",
        "print(\"Hi, \" + name + \"!\")\n",
        "print(name + \" ist ein wirklich schöner Name.\")"
      ],
      "metadata": {
        "id": "U1CBkk-c5EE2",
        "colab": {
          "base_uri": "https://localhost:8080/"
        },
        "outputId": "ef33ae8d-159b-4379-ded6-005b9a5c389e"
      },
      "execution_count": null,
      "outputs": [
        {
          "output_type": "stream",
          "name": "stdout",
          "text": [
            "Wie lautet dein Name? Benny\n",
            "Hi, Benny!\n",
            "Benny ist ein wirklich schöner Name.\n"
          ]
        }
      ]
    },
    {
      "cell_type": "markdown",
      "source": [
        "### Übung\n",
        "\n",
        "Schreibe ein Programm, dass den eingegebenen Namen mehrmals nutzt\n",
        "\n",
        "Beispielausgabe:\n",
        "\n",
        "```\n",
        "Wie heißt du? Ellen Musterfrau\n",
        "Hallo Ellen Musterfrau! Nur damit ich sichergehe: Du heißt Ellen Musterfrau?\n",
        "\n",
        "```\n",
        "\n"
      ],
      "metadata": {
        "id": "1S5_nK3G5QDh"
      }
    },
    {
      "cell_type": "code",
      "source": [
        "input = __builtins__.input\n",
        "\n",
        "name = input(\"Wie lautet dein Name?:\")\n",
        "print(\"Hi,\" + name + \"!\")\n",
        "print(\"Wie geht es dir heute,\" + name + \"?\")\n",
        "print(\"Was hast du heute vor,\" + name + \"?\")"
      ],
      "metadata": {
        "id": "Wk6phnHS5mP2",
        "outputId": "2739bba2-cf98-4ab1-e875-7a94e441a25e",
        "colab": {
          "base_uri": "https://localhost:8080/"
        }
      },
      "execution_count": null,
      "outputs": [
        {
          "output_type": "stream",
          "name": "stdout",
          "text": [
            "Wie lautet dein Name?:Benny\n",
            "Hi,Benny!\n",
            "Wie geht es dir heute,Benny?\n",
            "Was hast du heute vor,Benny?\n"
          ]
        }
      ]
    },
    {
      "cell_type": "markdown",
      "source": [
        "Ein Programm kann mehr als eine Eingabe anfordern. Beachte, dass unten jeder input Befehl den empfangenen Wert in einer anderen Variablen speichert."
      ],
      "metadata": {
        "id": "DxZuvqE85x-Z"
      }
    },
    {
      "cell_type": "code",
      "source": [
        "name = input(\"Wie lautet dein Name? \")\n",
        "email = input(\"Wie lautet deine Email Addresse? \")\n",
        "nickname = input(\"Wie lautet dein Nickname? \")\n",
        "\n",
        "print(\"Lass uns sicher gehen, dass wir alles korrekt haben\")\n",
        "print(\"Dein Name: \" + name)\n",
        "print(\"Deine Email Adresse: \" + email)\n",
        "print(\"Dein Nickname: \" + nickname)"
      ],
      "metadata": {
        "id": "EPzSMo-_54Qg",
        "outputId": "b40253bf-22af-4265-b0ee-f6577cf54a4d",
        "colab": {
          "base_uri": "https://localhost:8080/"
        }
      },
      "execution_count": null,
      "outputs": [
        {
          "output_type": "stream",
          "name": "stdout",
          "text": [
            "Wie lautet dein Name? Benny\n",
            "Wie lautet deine Email Addresse? benjamin.kurth@tn.techstarter.de\n",
            "Wie lautet dein Nickname? Benjamin-Kurth\n",
            "Lass uns sicher gehen, dass wir alles korrekt haben\n",
            "Dein Name: Benny\n",
            "Deine Email Adresse: benjamin.kurth@tn.techstarter.de\n",
            "Dein Nickname: Benjamin-Kurth\n"
          ]
        }
      ]
    },
    {
      "cell_type": "markdown",
      "source": [
        "Wenn dieselbe Variable zum Speichern mehrerer Eingaben verwendet wird, ersetzt jeder neue Wert den vorherigen.\n",
        "\n",
        "Beispiel:"
      ],
      "metadata": {
        "id": "vSQM5tr66UDa"
      }
    },
    {
      "cell_type": "code",
      "source": [
        "address = input(\"Wie lautet deine Adresse? \")\n",
        "print(\"Du lebst also aktuell hier: \" + address)\n",
        "\n",
        "address = input(\"Tippe bitte deine neue Adresse ein: \")\n",
        "print(\"Dein neuer Wohnort lautet \" + address)"
      ],
      "metadata": {
        "id": "mVpld8ac6mT9",
        "outputId": "f0402e16-a1ec-457c-d2f2-4375b0246b32",
        "colab": {
          "base_uri": "https://localhost:8080/"
        }
      },
      "execution_count": null,
      "outputs": [
        {
          "output_type": "stream",
          "name": "stdout",
          "text": [
            "Wie lautet deine Adresse? Friesoythe\n",
            "Du lebst also aktuell hier: Friesoythe\n",
            "Tippe bitte deine neue Adresse ein: Friesoythe\n",
            "Dein neuer Wohnort lautet Friesoythe\n"
          ]
        }
      ]
    },
    {
      "cell_type": "markdown",
      "source": [
        "### Übung\n",
        "Schreibe ein Programm, das nach dem Namen und der Adresse des Benutzers fragt. Das Programm sollte die angegebenen Informationen auch ausdrucken, und zwar wie folgt\n",
        "\n",
        "\n",
        "\n",
        "```\n",
        "Vorname: Steve\n",
        "Nachname: Sanders\n",
        "Straße und Hausnummer: Musterstraße 8\n",
        "Stadt und Postleitzahl: 07545 München\n",
        "Steve Sanders Musterstraße 9 07545 München\n",
        "```\n",
        "\n"
      ],
      "metadata": {
        "id": "AF5iY5S561bg"
      }
    },
    {
      "cell_type": "code",
      "source": [
        "name = input(\"Wie lautet dein Name?:\")\n",
        "nachname = input(\"Wie lautet dein Nachname?:\")\n",
        "adresse = input(\"Wie lautet deine Straße und Hausnummer?:\")\n",
        "wohnort = input(\"In welcher Stadt lebst du und wie lautet die Postleitzahl?:\")\n",
        "print(name,nachname,adresse,wohnort)"
      ],
      "metadata": {
        "id": "BcyLleiX7HcM",
        "outputId": "7d4278c2-fe4b-4c71-9bc7-f1e81a1396ec",
        "colab": {
          "base_uri": "https://localhost:8080/"
        }
      },
      "execution_count": null,
      "outputs": [
        {
          "output_type": "stream",
          "name": "stdout",
          "text": [
            "Wie lautet dein Name?:Steve \n",
            "Wie lautet dein Nachname?:Sanders\n",
            "Wie lautet deine Straße und Hausnummer?:Musterstraße 8\n",
            "In welcher Stadt lebst du und wie lautet die Postleitzahl?:07545 München\n",
            "Steve  Sanders Musterstraße 8 07545 München\n"
          ]
        }
      ]
    },
    {
      "cell_type": "markdown",
      "source": [
        "### Übung 2\n",
        "\n",
        "Schreiben ein Programm, das folgende Geschichte ausgibt. Der Benutzer gibt einen Namen und eine Jahreszahl an, die in den Ausdruck eingefügt werden sollen.\n",
        "\n",
        "\n",
        "\n",
        "```\n",
        "Bitte geben Sie einen Namen ein: Mary\n",
        "Bitte geben Sie ein Jahr ein: 1572\n",
        "\n",
        "Mary ist eine tapfere Ritterin, geboren im Jahr 1572. Eines Morgens wurde Mary von einem schrecklichen Lärm geweckt: Ein Drache näherte sich dem Dorf. Nur Mary konnte die Dorfbewohner retten.\n",
        "```\n",
        "\n"
      ],
      "metadata": {
        "id": "IVeW7JHu7Ntn"
      }
    },
    {
      "cell_type": "code",
      "source": [
        "name = input(\"Bitte geben Sie einen Namen ein: \")\n",
        "jahr = input(\"Bitte geben Sie ein Jahr ein: \")\n",
        "\n",
        "print(name + \" ist eine tapfere Ritterin, geboren im Jahr \" + jahr + \".\" + \" Eines Morgens wurde \" + name + \" von einem schrecklichen Lärm geweckt: Ein Drache näherte sich dem Dorf. Nur \" + name + \" konnte die Dorfbewohner retten.\")"
      ],
      "metadata": {
        "id": "Zy7TcUdZ7c6e",
        "outputId": "6773df3b-af1e-47ca-909f-d4369ae96a5c",
        "colab": {
          "base_uri": "https://localhost:8080/"
        }
      },
      "execution_count": null,
      "outputs": [
        {
          "output_type": "stream",
          "name": "stdout",
          "text": [
            "Bitte geben Sie einen Namen ein: Mary\n",
            "Bitte geben Sie ein Jahr ein: 1572\n",
            "Mary ist eine tapfere Ritterin, geboren im Jahr 1572. Eines Morgens wurde Mary von einem schrecklichen Lärm geweckt: Ein Drache näherte sich dem Dorf. Nur Mary konnte die Dorfbewohner retten.\n"
          ]
        }
      ]
    },
    {
      "cell_type": "markdown",
      "source": [
        "-----\n",
        "\n",
        "# Teil 3: Variablen\n",
        "\n"
      ],
      "metadata": {
        "id": "2XhAMNq17or7"
      }
    },
    {
      "cell_type": "markdown",
      "source": [
        "## Ganze Zahlen\n",
        "\n",
        "Bisher haben wir nur Zeichenfolgen in Variablen gespeichert, aber es gibt auch viele andere Arten von Informationen, die wir speichern und später abrufen möchten. Schauen wir uns zuerst ganze Zahlen an. Ganze Zahlen sind Zahlen, die weder einen Dezimal- noch einen Bruchteil haben, wie beispielsweise -15, 0 und 1.\n",
        "\n",
        "Das folgende Programm erstellt die Variable age, die einen ganzzahligen Wert enthält."
      ],
      "metadata": {
        "id": "Hqb_teab7tK9"
      }
    },
    {
      "cell_type": "code",
      "source": [
        "age = 24\n",
        "print(age)"
      ],
      "metadata": {
        "id": "IIwB3nkx78Dc",
        "colab": {
          "base_uri": "https://localhost:8080/"
        },
        "outputId": "21032d5a-8e0b-4444-8b67-7f79459bcf33"
      },
      "execution_count": 63,
      "outputs": [
        {
          "output_type": "stream",
          "name": "stdout",
          "text": [
            "24\n"
          ]
        }
      ]
    },
    {
      "cell_type": "markdown",
      "source": [
        "Beachte, dass hier keine Anführungszeichen stehen. Wenn wir die Zahl in Anführungszeichen setzen würden, wäre unsere Variable keine Ganzzahl mehr, sondern eine Zeichenfolge. Eine Zeichenfolge kann Zahlen enthalten, wird aber anders verarbeitet.\n",
        "\n",
        "Warum ist es also wichtig, dass Variablen einen Typ haben, wenn das folgende Programm trotzdem zweimal dasselbe ausgibt?"
      ],
      "metadata": {
        "id": "6ATPhFvX7-tn"
      }
    },
    {
      "cell_type": "code",
      "source": [
        "number1 = 100\n",
        "number2 = \"100\"\n",
        "\n",
        "print(number1)\n",
        "print(number2)"
      ],
      "metadata": {
        "id": "kiccCbMt8C_j",
        "colab": {
          "base_uri": "https://localhost:8080/"
        },
        "outputId": "18869f31-cea9-4a47-8103-26039fbf5ea0"
      },
      "execution_count": 62,
      "outputs": [
        {
          "output_type": "stream",
          "name": "stdout",
          "text": [
            "100\n",
            "100\n"
          ]
        }
      ]
    },
    {
      "cell_type": "markdown",
      "source": [
        "Variablentypen sind wichtig, weil unterschiedliche Operationen unterschiedliche Variablentypen auf unterschiedliche Weise beeinflussen. Sehen wir uns ein Beispiel an:"
      ],
      "metadata": {
        "id": "TB2lMQ0U8F7j"
      }
    },
    {
      "cell_type": "code",
      "source": [
        "number1 = 100\n",
        "number2 = \"100\"\n",
        "\n",
        "print(number1 + number1)\n",
        "print(number2 + number2)"
      ],
      "metadata": {
        "id": "5z5cUjdN8IQh",
        "colab": {
          "base_uri": "https://localhost:8080/"
        },
        "outputId": "f2300e94-051c-491b-a410-f48c183d2ab9"
      },
      "execution_count": 61,
      "outputs": [
        {
          "output_type": "stream",
          "name": "stdout",
          "text": [
            "200\n",
            "100100\n"
          ]
        }
      ]
    },
    {
      "cell_type": "markdown",
      "source": [
        "Bei ganzzahligen Werten +bedeutet der Operator eine Addition, bei Zeichenfolgenwerten jedoch eine Verkettung oder „Aneinanderreihung“.\n",
        "\n",
        "Nicht alle Operatoren sind für alle Variablentypen verfügbar. Zahlen können zwar mit dem Divisionsoperator dividiert werden /, der Versuch, einen String durch eine Zahl zu dividieren, führt jedoch zu einem Fehler:"
      ],
      "metadata": {
        "id": "__DHWlGF8Lx0"
      }
    },
    {
      "cell_type": "code",
      "source": [
        "number = \"100\"\n",
        "print(number / 2)"
      ],
      "metadata": {
        "id": "R9bNaWC-8OBc",
        "colab": {
          "base_uri": "https://localhost:8080/",
          "height": 159
        },
        "outputId": "6d064ea6-8b24-4e7f-9f28-8d9547a03e3e"
      },
      "execution_count": 60,
      "outputs": [
        {
          "output_type": "error",
          "ename": "TypeError",
          "evalue": "unsupported operand type(s) for /: 'str' and 'int'",
          "traceback": [
            "\u001b[0;31m---------------------------------------------------------------------------\u001b[0m",
            "\u001b[0;31mTypeError\u001b[0m                                 Traceback (most recent call last)",
            "\u001b[0;32m<ipython-input-60-69085c366a1c>\u001b[0m in \u001b[0;36m<cell line: 0>\u001b[0;34m()\u001b[0m\n\u001b[1;32m      1\u001b[0m \u001b[0mnumber\u001b[0m \u001b[0;34m=\u001b[0m \u001b[0;34m\"100\"\u001b[0m\u001b[0;34m\u001b[0m\u001b[0;34m\u001b[0m\u001b[0m\n\u001b[0;32m----> 2\u001b[0;31m \u001b[0mprint\u001b[0m\u001b[0;34m(\u001b[0m\u001b[0mnumber\u001b[0m \u001b[0;34m/\u001b[0m \u001b[0;36m2\u001b[0m\u001b[0;34m)\u001b[0m\u001b[0;34m\u001b[0m\u001b[0;34m\u001b[0m\u001b[0m\n\u001b[0m",
            "\u001b[0;31mTypeError\u001b[0m: unsupported operand type(s) for /: 'str' and 'int'"
          ]
        }
      ]
    },
    {
      "cell_type": "markdown",
      "source": [
        "### Kombinieren von Werten bei der print Funktion\n",
        "\n",
        "Ebenso wird das folgende Programm nicht funktionieren, da es zwei verschiedene Typen von `Das Ergebnis ist` und `result` gibt"
      ],
      "metadata": {
        "id": "U97yrzaL8SkL"
      }
    },
    {
      "cell_type": "code",
      "source": [
        "result = 10 * 25\n",
        "# die folgende Zeile erzeugt einen Fehler\n",
        "print(\"Das Ergebnis ist \" + result)"
      ],
      "metadata": {
        "id": "C2PcAJ-M8mXP",
        "colab": {
          "base_uri": "https://localhost:8080/",
          "height": 176
        },
        "outputId": "e1028453-6df4-40b3-ca53-26f1e0b5922e"
      },
      "execution_count": 59,
      "outputs": [
        {
          "output_type": "error",
          "ename": "TypeError",
          "evalue": "can only concatenate str (not \"int\") to str",
          "traceback": [
            "\u001b[0;31m---------------------------------------------------------------------------\u001b[0m",
            "\u001b[0;31mTypeError\u001b[0m                                 Traceback (most recent call last)",
            "\u001b[0;32m<ipython-input-59-18144457dd61>\u001b[0m in \u001b[0;36m<cell line: 0>\u001b[0;34m()\u001b[0m\n\u001b[1;32m      1\u001b[0m \u001b[0mresult\u001b[0m \u001b[0;34m=\u001b[0m \u001b[0;36m10\u001b[0m \u001b[0;34m*\u001b[0m \u001b[0;36m25\u001b[0m\u001b[0;34m\u001b[0m\u001b[0;34m\u001b[0m\u001b[0m\n\u001b[1;32m      2\u001b[0m \u001b[0;31m# die folgende Zeile erzeugt einen Fehler\u001b[0m\u001b[0;34m\u001b[0m\u001b[0;34m\u001b[0m\u001b[0m\n\u001b[0;32m----> 3\u001b[0;31m \u001b[0mprint\u001b[0m\u001b[0;34m(\u001b[0m\u001b[0;34m\"Das Ergebnis ist \"\u001b[0m \u001b[0;34m+\u001b[0m \u001b[0mresult\u001b[0m\u001b[0;34m)\u001b[0m\u001b[0;34m\u001b[0m\u001b[0;34m\u001b[0m\u001b[0m\n\u001b[0m",
            "\u001b[0;31mTypeError\u001b[0m: can only concatenate str (not \"int\") to str"
          ]
        }
      ]
    },
    {
      "cell_type": "markdown",
      "source": [
        "Hier sagt uns Python, dass die Kombination zweier unterschiedlicher Wertetypen nicht einfach so funktioniert. In diesem Fall `Das Ergebnis ist` ist vom Typ **String**, während der in gespeicherte Wert `result` vom Typ **Integer** ist.\n",
        "\n",
        "Wenn wir einen String und einen Integer in einem einzigen Befehl ausgeben möchten, kann der Integer mit der `str`Funktion in einen String umgewandelt werden und die beiden Strings können dann normal kombiniert werden. So würde es beispielsweise funktionieren:"
      ],
      "metadata": {
        "id": "0-gr0PeT8xFX"
      }
    },
    {
      "cell_type": "code",
      "source": [
        "result = 10 * 25\n",
        "print(\"Das Ergebnis ist \" + str(result))"
      ],
      "metadata": {
        "id": "zlw7n0Wh8-HK",
        "colab": {
          "base_uri": "https://localhost:8080/"
        },
        "outputId": "11ff8e8f-6097-4278-b6e7-a6fd833246aa"
      },
      "execution_count": 58,
      "outputs": [
        {
          "output_type": "stream",
          "name": "stdout",
          "text": [
            "Das Ergebnis ist 250\n"
          ]
        }
      ]
    },
    {
      "cell_type": "markdown",
      "source": [
        "Der `print`Befehl verfügt auch über integrierte Funktionen, die das Kombinieren verschiedener Wertetypen unterstützen. Am einfachsten geht das, indem man zwischen den Werten ein Komma einfügen. Alle Werte werden unabhängig von ihrem Typ ausgedruckt:"
      ],
      "metadata": {
        "id": "jBiMgg2_9D9w"
      }
    },
    {
      "cell_type": "code",
      "source": [
        "result = 10 * 25\n",
        "print(\"Das Ergebnis ist\", result)"
      ],
      "metadata": {
        "id": "xgrrIRtc9IsX",
        "colab": {
          "base_uri": "https://localhost:8080/"
        },
        "outputId": "3625aa48-ef4d-4c64-ff06-48d64e4d173a"
      },
      "execution_count": 57,
      "outputs": [
        {
          "output_type": "stream",
          "name": "stdout",
          "text": [
            "Das Ergebnis ist 250\n"
          ]
        }
      ]
    },
    {
      "cell_type": "markdown",
      "source": [
        "**Beachte**, dass hier zwischen den durch Komma getrennten Werten automatisch ein Leerzeichen eingefügt wird."
      ],
      "metadata": {
        "id": "cKixtLXd9QLQ"
      }
    },
    {
      "cell_type": "markdown",
      "source": [
        "#### `print` mit F-Strings"
      ],
      "metadata": {
        "id": "uC-ZO_-d9UCM"
      }
    },
    {
      "cell_type": "markdown",
      "source": [
        "Was ist, wenn wir mehr Flexibilität und Kontrolle über das haben möchten, was wir ausdrucken? Sogenannte `F-Strings` sind eine weitere Möglichkeit, Ausdrucke in Python zu formatieren. Die Syntax kann zunächst etwas verwirrend aussehen, aber letztendlich sind `F-Strings` oft die einfachste Möglichkeit, Text zu formatieren.\n",
        "\n",
        "Mit F-Strings würde das vorherige Beispiel folgendermaßen aussehen:"
      ],
      "metadata": {
        "id": "6j9fJmwe9Ygb"
      }
    },
    {
      "cell_type": "code",
      "source": [
        "result = 10 * 25\n",
        "print(f\"Das Ergebnis ist {result}\")"
      ],
      "metadata": {
        "id": "U5PN1TgE9hA7",
        "colab": {
          "base_uri": "https://localhost:8080/"
        },
        "outputId": "ab854584-9104-4b10-df9e-a549cda14b8b"
      },
      "execution_count": 55,
      "outputs": [
        {
          "output_type": "stream",
          "name": "stdout",
          "text": [
            "Das Ergebnis ist 250\n"
          ]
        }
      ]
    },
    {
      "cell_type": "markdown",
      "source": [
        "Ein einzelner F-String kann mehrere Variablen enthalten. Zum Beispiel dieser Code"
      ],
      "metadata": {
        "id": "7a8R03rG9s3Y"
      }
    },
    {
      "cell_type": "code",
      "source": [
        "name = \"Mark\"\n",
        "age = 37\n",
        "city = \"Palo Alto\"\n",
        "print(f\"Hi {name}, du bist {age} Jahre. Du lebst in {city}.\")"
      ],
      "metadata": {
        "id": "HSuyecoD9lzN",
        "colab": {
          "base_uri": "https://localhost:8080/"
        },
        "outputId": "ec3b4139-950b-4658-fd39-96870d679cef"
      },
      "execution_count": 56,
      "outputs": [
        {
          "output_type": "stream",
          "name": "stdout",
          "text": [
            "Hi Mark, du bist 37 Jahre. Du lebst in Palo Alto.\n"
          ]
        }
      ]
    },
    {
      "cell_type": "markdown",
      "source": [
        "Beachte das automatisch eingefügte Leerzeichen zwischen jedem durch Kommas getrennten Teil des Ausdrucks.\n",
        "\n",
        "In ihrer Einfachheit kann die Komma-Notation des `print`Befehls oft nützlich sein, aber manchmal macht sie mehr Ärger als sie wert ist. `F-Strings` sind normalerweise eine zuverlässigere Option."
      ],
      "metadata": {
        "id": "-mUHMsYZ9zBT"
      }
    },
    {
      "cell_type": "markdown",
      "source": [
        "### Übung\n",
        "\n",
        "Ihre Freundin arbeitet an einer App für Arbeitssuchende. Sie schickt Ihnen diesen Code:\n",
        "\n",
        "\n",
        "```\n",
        "name = \"Tim Tester\"\n",
        "age = 20\n",
        "skill1 = \"python\"\n",
        "level1 = \"beginner\"\n",
        "skill2 = \"java\"\n",
        "level2 = \"veteran\"\n",
        "skill3 = \"programming\"\n",
        "level3 = \"semiprofessional\"\n",
        "lower = 2000\n",
        "upper = 3000\n",
        "\n",
        "print(\"Mein Name ist \", name, \" , ich bin \", age, \"Jahre alt\")\n",
        "print(\"Meine Fähigkeiten sind\")\n",
        "print(\"- \", skill1, \" (\", level1, \")\")\n",
        "print(\"- \", skill2, \" (\", level2, \")\")\n",
        "print(\"- \", skill3, \" (\", level3, \" )\")\n",
        "print(\"Ich suche einen Job mit einem Gehalt zwischen\", lower, \"-\", upper, \"Euro pro Monat\")\n",
        "```\n",
        "\n",
        "Die Ausgabe sollte wie folgt sein\n",
        "\n",
        "```\n",
        "Mein Name ist Tim Tester, ich bin 20 Jahre alt\n",
        "\n",
        "Meine Fähigkeiten sind\n",
        " - python (beginner)\n",
        " - Java (Veteran)\n",
        " - Programmieren (semiprofessionell)\n",
        "\n",
        "Ich suche einen Job mit einem Gehalt von 2000-3000 Euro pro Monat\n",
        "```\n",
        "\n",
        "Der Code funktioniert fast richtig, aber nicht ganz.\n",
        "\n",
        "Korrigiere den Code, damit der Ausdruck richtig aussieht. Beachte insbesondere, wie die Komma-Notation im `print`Befehl automatisch ein Leerzeichen um die verschiedenen durch Kommas getrennten Teile einfügt.\n",
        "\n",
        "Der einfachste Weg, den Code so umzuwandeln, dass er die Anforderungen erfüllt, ist die Verwendung von `F-Strings`.\n",
        "\n",
        "Hinweis: Du kannst eine leere Zeile drucken `print`, indem du einen leeren Befehl hinzufügen oder das Zeilenumbruchzeichen `\\n` in deine Zeichenfolge einfügst.\n"
      ],
      "metadata": {
        "id": "uRy1Vp7Z-AIU"
      }
    },
    {
      "cell_type": "code",
      "source": [
        "name = \"Tim Tester\"\n",
        "age = 20\n",
        "skill1 = \"python\"\n",
        "level1 = \"beginner\"\n",
        "skill2 = \"java\"\n",
        "level2 = \"veteran\"\n",
        "skill3 = \"programming\"\n",
        "level3 = \"semiprofessional\"\n",
        "lower = 2000\n",
        "upper = 3000\n",
        "\n",
        "print(\"Mein Name ist \", name, \" , ich bin \", age, \"Jahre alt \\n\")\n",
        "print(\"Meine Fähigkeiten sind \\n\") #\\n muss immer innerhalb der \"\"enthalten sein.\n",
        "print(\"- \", skill1, \" (\", level1, \")\")\n",
        "print(\"- \", skill2, \" (\", level2, \")\")\n",
        "print(\"- \", skill3, \" (\", level3, \" )\\n\")\n",
        "print(\"Ich suche einen Job mit einem Gehalt zwischen\", lower, \"-\", upper, \"Euro pro Monat\")"
      ],
      "metadata": {
        "id": "5RUz5uc7-kgh",
        "colab": {
          "base_uri": "https://localhost:8080/"
        },
        "outputId": "4bd86452-2e4b-4d80-8d53-875114796313"
      },
      "execution_count": 66,
      "outputs": [
        {
          "output_type": "stream",
          "name": "stdout",
          "text": [
            "Mein Name ist  Tim Tester  , ich bin  20 Jahre alt \n",
            "\n",
            "Meine Fähigkeiten sind \n",
            "\n",
            "-  python  ( beginner )\n",
            "-  java  ( veteran )\n",
            "-  programming  ( semiprofessional  )\n",
            "\n",
            "Ich suche einen Job mit einem Gehalt zwischen 2000 - 3000 Euro pro Monat\n"
          ]
        }
      ]
    },
    {
      "cell_type": "markdown",
      "source": [
        "## Gleitkommazahlen\n",
        "\n",
        "\n",
        "`Floating point number`oder `Float` ist ein Begriff, der dir beim Programmieren häufig begegnet. Er bezieht sich auf Zahlen mit einem Dezimalpunkt. Sie können ähnlich wie Ganzzahlen verwendet werden.\n",
        "\n",
        "Dieses Programm berechnet den Mittelwert von drei Gleitkommazahlen:"
      ],
      "metadata": {
        "id": "WcjpbO4n_PUq"
      }
    },
    {
      "cell_type": "code",
      "source": [
        "number1 = 2.5\n",
        "number2 = -1.25\n",
        "number3 = 3.62\n",
        "\n",
        "mean = (number1 + number2 + number3) / 3\n",
        "print(f\"Durchschnitt: {mean}\")"
      ],
      "metadata": {
        "id": "fMjxDNMj_ksG",
        "colab": {
          "base_uri": "https://localhost:8080/"
        },
        "outputId": "403a1fa2-7b4f-4315-a033-a42721889d69"
      },
      "execution_count": 67,
      "outputs": [
        {
          "output_type": "stream",
          "name": "stdout",
          "text": [
            "Durchschnitt: 1.6233333333333333\n"
          ]
        }
      ]
    },
    {
      "cell_type": "markdown",
      "source": [
        "### Übung\n",
        "\n",
        "Dieses Programm enthält bereits zwei Integer-Variablen x und y:\n",
        "\n",
        "```\n",
        "x = 27\n",
        "y = 15\n",
        "```\n",
        "\n",
        "\n",
        "Bitte vervollständige das Programm so, dass es zusätzlich folgendes ausdruckt:\n",
        "\n",
        "Beispielausgabe\n",
        "\n",
        "\n",
        "```\n",
        "27 + 15 = 42\n",
        "27 - 15 = 12\n",
        "27 * 15 = 405\n",
        "27 / 15 = 1.8\n",
        "```\n",
        "\n",
        "\n",
        "\n",
        "Das Programm sollte auch dann korrekt funktionieren, wenn die Werte der Variablen geändert werden. Das heißt, wenn die ersten beiden Zeilen durch Folgendes ersetzt werden:\n",
        "\n",
        "\n",
        "```\n",
        "x = 4\n",
        "y = 9\n",
        "```\n",
        "\n",
        "\n",
        "das Programm sollte folgendes ausdrucken:\n",
        "\n",
        "Beispielausgabe\n",
        "\n",
        "```\n",
        "4 + 9 = 13\n",
        "4 - 9 = -5\n",
        "4 * 9 = 36\n",
        "4 / 9 = 0.4444444444444444\n",
        "```"
      ],
      "metadata": {
        "id": "M1YwzlBw_wqF"
      }
    },
    {
      "cell_type": "code",
      "source": [
        "x = 27\n",
        "y = 15\n",
        "\n",
        "print(f\"{x} + {y} = {x + y}\")\n",
        "print(f\"{x} - {y} = {x - y}\")\n",
        "print(f\"{x} * {y} = {x * y}\")\n",
        "print(f\"{x} / {y} = {x / y}\")"
      ],
      "metadata": {
        "id": "uH_98kMLACy1",
        "colab": {
          "base_uri": "https://localhost:8080/"
        },
        "outputId": "b58cce9d-6ad3-4b92-b707-e1de86fe5214"
      },
      "execution_count": 81,
      "outputs": [
        {
          "output_type": "stream",
          "name": "stdout",
          "text": [
            "27 + 15 = 42\n",
            "27 - 15 = 12\n",
            "27 * 15 = 405\n",
            "27 / 15 = 1.8\n"
          ]
        }
      ]
    },
    {
      "cell_type": "markdown",
      "source": [
        "\n",
        "## Arithmetische Operatoren in Python\n",
        "\n",
        "In den vorherigen Abschnitten haben wir Beispiele mit grundlegenden Arithmetikoperationen gesehen. In der folgenden Tabelle siehst du die gebräuchlichsten arithmetischen Operatoren in Python mit Beispielen:\n",
        "\n",
        "| **Operator** | **Zweck**                          | **Beispiel**    | **Ergebnis** |\n",
        "|--------------|------------------------------------|-----------------|--------------|\n",
        "| `+`          | Addition                           | `2 + 4`         | `6`          |\n",
        "| `-`          | Subtraktion                        | `10 - 2.5`      | `7.5`        |\n",
        "| `*`          | Multiplikation                     | `-2 * 123`      | `-246`       |\n",
        "| `/`          | Division (Gleitkommaergebnis)      | `9 / 2`         | `4.5`        |\n",
        "| `//`         | Division (ganzzahliges Ergebnis)   | `9 // 2`        | `4`          |\n",
        "| `%`          | Modulo                             | `9 % 2`         | `1`          |\n",
        "| `**`         | Potenzierung                       | `2 ** 3`        | `8`          |\n",
        "\n",
        "---\n",
        "\n",
        "### Reihenfolge der Rechenoperationen\n",
        "\n",
        "Die Reihenfolge der Rechenoperationen entspricht der aus der Mathematik bekannten Reihenfolge:  \n",
        "1. **Exponenten** berechnen.  \n",
        "2. **Multiplikation und Division**.  \n",
        "3. **Addition und Subtraktion**.  \n",
        "\n",
        "Die Reihenfolge kann durch Klammern verändert werden.\n",
        "\n",
        "#### Beispielcode:\n",
        "\n",
        "```python\n",
        "print(2 + 3 * 3)      # Ohne Klammern\n",
        "print((2 + 3) * 3)    # Mit Klammern\n",
        "```\n",
        "\n",
        "#### Beispielausgabe:\n",
        "```\n",
        "11\n",
        "15\n",
        "```\n",
        "\n",
        "Die Verwendung von Klammern hilft, die gewünschte Reihenfolge der Berechnungen explizit festzulegen."
      ],
      "metadata": {
        "id": "RzEQ692kBD4C"
      }
    },
    {
      "cell_type": "code",
      "source": [
        "print(2 + 3 * 3)\n",
        "print((2 + 3) * 3)"
      ],
      "metadata": {
        "id": "HSscn9DCBVpI",
        "colab": {
          "base_uri": "https://localhost:8080/"
        },
        "outputId": "e26e59e1-6975-447f-e313-d70208fd70f6"
      },
      "execution_count": 84,
      "outputs": [
        {
          "output_type": "stream",
          "name": "stdout",
          "text": [
            "11\n",
            "15\n"
          ]
        }
      ]
    },
    {
      "cell_type": "markdown",
      "source": [
        "### Operanden, Operatoren und Datentypen\n",
        "Eine Berechnung besteht normalerweise aus Operanden und Operatoren :\n",
        "\n",
        "![1_4_1.png](data:image/png;base64,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)"
      ],
      "metadata": {
        "id": "0HYlPYC_BdQQ"
      }
    },
    {
      "cell_type": "markdown",
      "source": [
        "Der Datentyp eines Operanden bestimmt normalerweise den Datentyp des Ergebnisses: Wenn zwei Ganzzahlen addiert werden, ist das Ergebnis ebenfalls eine Ganzzahl. Wenn eine Gleitkommazahl von einer anderen Gleitkommazahl subtrahiert wird, ist das Ergebnis eine Gleitkommazahl. Tatsächlich ist das Ergebnis auch eine Gleitkommazahl, wenn einer der Operanden in einem Ausdruck eine Gleitkommazahl ist, unabhängig von den anderen Operanden.\n",
        "\n",
        "Eine Ausnahme von dieser Regel ist die Division /. Ihr Ergebnis ist eine Gleitkommazahl, auch wenn die Operanden Ganzzahlen sind. Beispielsweise 1 / 5ergibt die Division die Gleitkommazahl 0.2.\n",
        "\n",
        "Beispiel:"
      ],
      "metadata": {
        "id": "5BMkU2bVBsVq"
      }
    },
    {
      "cell_type": "code",
      "source": [
        "height = 172.5\n",
        "weight = 68.55\n",
        "\n",
        "# Der Body Mass Index (BMI) wird berechnet, indem die Körpermasse durch das Quadrat der Körpergröße geteilt wird.\n",
        "# Die Höhe wird in der Formel in Meter umgerechnet\n",
        "bmi = weight / (height / 100) ** 2\n",
        "\n",
        "print(f\"The BMI is {bmi}\")"
      ],
      "metadata": {
        "id": "fNNj38F5BxGV",
        "colab": {
          "base_uri": "https://localhost:8080/"
        },
        "outputId": "def4a35d-35e4-4b07-de9d-2b710843236a"
      },
      "execution_count": 85,
      "outputs": [
        {
          "output_type": "stream",
          "name": "stdout",
          "text": [
            "The BMI is 23.037177063642087\n"
          ]
        }
      ]
    },
    {
      "cell_type": "markdown",
      "source": [
        "Beachte, dass Python auch einen Ganzzahldivisionsoperator hat //. Wenn die Operanden Ganzzahlen sind, wird eine Ganzzahl erzeugt. Das Ergebnis wird auf die nächste Ganzzahl abgerundet. Dieses Programm beispielsweise"
      ],
      "metadata": {
        "id": "ntk0ieKiB8xO"
      }
    },
    {
      "cell_type": "code",
      "source": [
        "x = 3\n",
        "y = 2\n",
        "\n",
        "print(f\"/ operator {x/y}\")\n",
        "print(f\"// operator {x//y}\")"
      ],
      "metadata": {
        "id": "HvpDtcoIB_pA",
        "colab": {
          "base_uri": "https://localhost:8080/"
        },
        "outputId": "d10ed5fc-f5cd-4b5d-9bb3-379123bf2568"
      },
      "execution_count": 86,
      "outputs": [
        {
          "output_type": "stream",
          "name": "stdout",
          "text": [
            "/ operator 1.5\n",
            "// operator 1\n"
          ]
        }
      ]
    },
    {
      "cell_type": "markdown",
      "source": [
        "Wir haben den `input`Befehl bereits verwendet, um Zeichenfolgen vom Benutzer einzulesen. Die gleiche Funktion kann auch zum Einlesen von Zahlen verwendet werden, allerdings muss die von der Funktion erzeugte Zeichenfolge anschließend im Programmcode in einen numerischen Datentyp umgewandelt werden. Im vorherigen Abschnitt haben wir mit der strFunktion Ganzzahlen in Zeichenfolgen umgewandelt. Hier gilt das gleiche Grundprinzip, der Name der Umwandlungsfunktion ist jedoch anders.\n",
        "\n",
        "Mit der Funktion kann ein String in einen Integer umgewandelt werden int. Das folgende Programm fragt den Benutzer nach seinem Geburtsjahr und speichert es in der Variable `input_str`. Anschließend erstellt das Programm eine weitere Variable `year`, die das in einen Integer umgewandelte Jahr enthält. Danach ist die Berechnung `2025-year`  mit dem vom Benutzer angegebenen Wert möglich."
      ],
      "metadata": {
        "id": "lk-cyLjtCFSC"
      }
    },
    {
      "cell_type": "code",
      "source": [
        "input_str = input(\"In welchem Jahr wurdest du geboren? \")\n",
        "# print(type(input_str))<class 'str'>\n",
        "year = int(input_str)\n",
        "# print(type(year))<class 'int'>\n",
        "print(f\"Am Ende des Jahres 2025 bist du : {2025 - year}\" )"
      ],
      "metadata": {
        "id": "sGAwa1FJCVl-",
        "colab": {
          "base_uri": "https://localhost:8080/"
        },
        "outputId": "0cac482a-43fb-4b40-b41d-1b3119602ed3"
      },
      "execution_count": 90,
      "outputs": [
        {
          "output_type": "stream",
          "name": "stdout",
          "text": [
            "In welchem Jahr wurdest du geboren? 1992\n",
            "<class 'str'>\n",
            "<class 'int'>\n",
            "Am Ende des Jahres 2025 bist du : 33\n"
          ]
        }
      ]
    },
    {
      "cell_type": "markdown",
      "source": [
        "Normalerweise müssen Sie nicht zwei separate Variablen erstellen (wie oben `input_str`und `year`), um einen Zahlenwert vom Benutzer zu lesen. Stattdessen könntest du die Eingabe mit der `input`Funktion lesen und mit der Funktion konvertieren, und zwar in einem Schritt:"
      ],
      "metadata": {
        "id": "2Va1_JG1ClLP"
      }
    },
    {
      "cell_type": "code",
      "source": [
        "year = int(input(\"In welchem Jahr wurdest du geboren? \"))\n",
        "print(f\"Am Ende des Jahres 2025 bist du : {2025 - year}\" )"
      ],
      "metadata": {
        "id": "07mHFEZtCvej",
        "colab": {
          "base_uri": "https://localhost:8080/"
        },
        "outputId": "96e41de4-ce03-46ef-93d3-35f4fb39a54e"
      },
      "execution_count": 93,
      "outputs": [
        {
          "output_type": "stream",
          "name": "stdout",
          "text": [
            "In welchem Jahr wurdest du geboren? 1992\n",
            "Am Ende des Jahres 2025 bist du : 33\n"
          ]
        }
      ]
    },
    {
      "cell_type": "code",
      "source": [
        "height = float(input(\"Wie groß bist du (in cm)? \"))\n",
        "weight = float(input(\"Wieviel wiegst du? \"))\n",
        "\n",
        "height = height / 100\n",
        "bmi = weight / height ** 2\n",
        "\n",
        "print(f\"The BMI is {bmi}\")"
      ],
      "metadata": {
        "id": "0tXW-EjgC4dy",
        "colab": {
          "base_uri": "https://localhost:8080/"
        },
        "outputId": "7c135adb-eb9c-41e6-cc60-3e6226f96663"
      },
      "execution_count": 95,
      "outputs": [
        {
          "output_type": "stream",
          "name": "stdout",
          "text": [
            "Wie groß bist du (in cm)? 182\n",
            "Wieviel wiegst du? 73\n",
            "The BMI is 22.03840115928028\n"
          ]
        }
      ]
    },
    {
      "cell_type": "markdown",
      "source": [
        "### Übung\n",
        "\n",
        "Schreibe ein Programm, das den Benutzer nach einer Zahl fragt. Das Programm druckt dann die mit fünf multiplizierte Zahl aus.\n",
        "\n",
        "Das Programm sollte wie folgt funktionieren:\n",
        "\n",
        "```\n",
        "Beispielausgabe\n",
        "Bitte geben Sie eine Zahl ein: 3\n",
        "3 mal 5 ist 15\n",
        "```\n",
        "\n"
      ],
      "metadata": {
        "id": "sEfhNFtQDF3F"
      }
    },
    {
      "cell_type": "code",
      "source": [
        "zahl = float(input(\"Bitte geben Sie eine Zahl ein: \"))\n",
        "summe = zahl * 5\n",
        "print(f\"{zahl} mal 5 ist {summe}\")"
      ],
      "metadata": {
        "id": "kuSa3B2iDNHT",
        "colab": {
          "base_uri": "https://localhost:8080/"
        },
        "outputId": "842d4406-ed01-4730-dfae-ababbe26e1a3"
      },
      "execution_count": 114,
      "outputs": [
        {
          "output_type": "stream",
          "name": "stdout",
          "text": [
            "Bitte geben Sie eine Zahl ein: 10\n",
            "10.0 mal 5 ist 50.0\n"
          ]
        }
      ]
    },
    {
      "cell_type": "markdown",
      "source": [
        "### Übung 2\n",
        "\n",
        "Schreibe ein Programm, das den Benutzer nach seinem Namen und Geburtsjahr fragt. Das Programm gibt dann folgende Meldung aus:\n",
        "\n",
        "```\n",
        "Wie heißt du? Frances Fictitious\n",
        "In welchem ​​Jahr bist du geboren? 1990\n",
        "Hallo Frances Fictitious, du wirst Ende des Jahres 2021 31 Jahre alt sein\n",
        "```\n",
        "\n"
      ],
      "metadata": {
        "id": "vOh2zq2vDQDY"
      }
    },
    {
      "cell_type": "code",
      "source": [
        "name = input(\"Wie heißt du?: \")\n",
        "geburtsjahr = int(input(\"In welchem Jahr bist du geboren?: \"))\n",
        "jahr = int(input(\"Welches Jahr haben wir? \"))\n",
        "alter = jahr - geburtsjahr\n",
        "print(f\"Hallo {name}, du wirst Ende des Jahres {jahr}, {alter} Jahre alt sein.\")"
      ],
      "metadata": {
        "id": "jVHOUC0aDXcT",
        "colab": {
          "base_uri": "https://localhost:8080/"
        },
        "outputId": "18ee12bc-1357-4c2b-c176-f7833161eb41"
      },
      "execution_count": 124,
      "outputs": [
        {
          "output_type": "stream",
          "name": "stdout",
          "text": [
            "Wie heißt du?: Frances Fictitious\n",
            "In welchem Jahr bist du geboren?: 1990\n",
            "Welches Jahr haben wir? 2025\n",
            "Hallo Frances Fictitious, du wirst Ende des Jahres 2025, 35 Jahre alt sein.\n"
          ]
        }
      ]
    },
    {
      "cell_type": "markdown",
      "source": [
        "## Verwenden von Variablen\n",
        "\n",
        "Schauen wir uns ein Programm an, das die Summe dreier vom Benutzer eingegebener Zahlen berechnet:"
      ],
      "metadata": {
        "id": "a1el33aBDhBb"
      }
    },
    {
      "cell_type": "code",
      "source": [
        "number1 = int(input(\"Erste Zahl: \"))\n",
        "number2 = int(input(\"Zweite Zahl: \"))\n",
        "number3 = int(input(\"Dritte Zahl: \"))\n",
        "\n",
        "sum = number1 + number2 + number3\n",
        "print(f\"Die Summe der drei Zahlen ist: {sum}\")"
      ],
      "metadata": {
        "id": "e0D61ZiaDkd5",
        "colab": {
          "base_uri": "https://localhost:8080/"
        },
        "outputId": "8ac9674f-02a8-4775-f23f-28c5c54199da"
      },
      "execution_count": 126,
      "outputs": [
        {
          "output_type": "stream",
          "name": "stdout",
          "text": [
            "Erste Zahl: 5\n",
            "Zweite Zahl: 3\n",
            "Dritte Zahl: 7\n",
            "Die Summe der drei Zahlen ist: 15\n"
          ]
        }
      ]
    },
    {
      "cell_type": "markdown",
      "source": [
        "Das Programm verwendet vier verschiedene Variablen, aber in diesem Fall würden zwei problemlos ausreichen:"
      ],
      "metadata": {
        "id": "DP7IGLz5ErWZ"
      }
    },
    {
      "cell_type": "code",
      "source": [
        "sum = 0\n",
        "\n",
        "number = int(input(\"Erste Zahl: \"))\n",
        "\n",
        "sum = sum + number\n",
        "\n",
        "number = int(input(\"Zweite Zahl: \"))\n",
        "\n",
        "sum = sum + number\n",
        "\n",
        "number = int(input(\"Dritte Zahl: \"))\n",
        "\n",
        "sum = sum + number\n",
        "\n",
        "print(f\"Die Summe der drei Zahlen ist: {sum}\")"
      ],
      "metadata": {
        "id": "kl45PqhyEuL9",
        "colab": {
          "base_uri": "https://localhost:8080/"
        },
        "outputId": "21a7b334-c3fb-4ad4-c2d1-19a4efdec083"
      },
      "execution_count": 127,
      "outputs": [
        {
          "output_type": "stream",
          "name": "stdout",
          "text": [
            "Erste Zahl: 5\n",
            "Zweite Zahl: 3\n",
            "Dritte Zahl: 7\n",
            "Die Summe der drei Zahlen ist: 15\n"
          ]
        }
      ]
    },
    {
      "cell_type": "markdown",
      "source": [
        "Nun werden alle Eingaben des Benutzers in ein und dieselbe Variable eingelesen `number`. Der Wert der Variablen `sum`wird bei jeder Eingabe einer neuen Zahl durch den Benutzer um den Wert der Variablen erhöht `number`\n",
        "\n",
        "Schauen wir uns diesen Befehl genauer an:\n",
        "\n",
        "`sum = sum + number`"
      ],
      "metadata": {
        "id": "vF1RM1BKE_ZF"
      }
    },
    {
      "cell_type": "markdown",
      "source": [
        "Dabei werden der Wert der Variablen `sum`und der Wert der Variablen `number`addiert und das Ergebnis wieder in der Variablen `sum` gespeichert. Wenn beispielsweise vor dem Befehl der Wert von `sum`3 und der Wert von `number`2 ist, ist der Wert von nach der Ausführung des Befehls `sum`5.\n",
        "\n",
        "Das Erhöhen des Wertes einer Variablen ist eine sehr häufige Operation. Daher gibt es eine häufig verwendete Kurzschreibweise, die dasselbe Ergebnis erzielt wie die explizite Summierung oben:\n",
        "\n",
        "```\n",
        "sum += number\n",
        "```\n",
        "\n",
        "Dadurch können wir das obige Programm etwas prägnanter schreiben:\n",
        "\n"
      ],
      "metadata": {
        "id": "Nezko-NsFKIU"
      }
    },
    {
      "cell_type": "code",
      "source": [
        "sum = 0\n",
        "\n",
        "number = int(input(\"Erste Zahl: \"))\n",
        "\n",
        "sum += number\n",
        "\n",
        "number = int(input(\"Zweite Zahl: \"))\n",
        "\n",
        "sum += number\n",
        "\n",
        "number = int(input(\"Dritte Zahl: \"))\n",
        "\n",
        "sum += number\n",
        "\n",
        "print(f\"Die Summe der drei Zahlen ist: {sum}\")"
      ],
      "metadata": {
        "id": "TqXarANbFkkx",
        "colab": {
          "base_uri": "https://localhost:8080/"
        },
        "outputId": "f7a0213f-e970-442d-ec06-b2a141e88560"
      },
      "execution_count": 128,
      "outputs": [
        {
          "output_type": "stream",
          "name": "stdout",
          "text": [
            "Erste Zahl: 5\n",
            "Zweite Zahl: 3\n",
            "Dritte Zahl: 7\n",
            "Die Summe der drei Zahlen ist: 15\n"
          ]
        }
      ]
    },
    {
      "cell_type": "markdown",
      "source": [
        "Tatsächlich brauchen wir die Variable `number`gar nicht unbedingt. Die Eingaben des Benutzers können auch folgendermaßen verarbeitet werden:"
      ],
      "metadata": {
        "id": "1CL7ls8lFqRp"
      }
    },
    {
      "cell_type": "code",
      "source": [
        "sum = 0\n",
        "\n",
        "sum += int(input(\"Erste Zahl: \"))\n",
        "sum += int(input(\"Zweite Zahl: \"))\n",
        "sum += int(input(\"Dritte Zahl: \"))\n",
        "\n",
        "print(f\"Die Summe der drei Zahlen ist: {sum}\")"
      ],
      "metadata": {
        "id": "VKRHOrIAFv1b",
        "colab": {
          "base_uri": "https://localhost:8080/"
        },
        "outputId": "8af1a238-eafd-474f-8d9d-69bfebfaf1d4"
      },
      "execution_count": 129,
      "outputs": [
        {
          "output_type": "stream",
          "name": "stdout",
          "text": [
            "Erste Zahl: 3\n",
            "Zweite Zahl: 5\n",
            "Dritte Zahl: 7\n",
            "Die Summe der drei Zahlen ist: 15\n"
          ]
        }
      ]
    },
    {
      "cell_type": "markdown",
      "source": [
        "Natürlich hängt es vom Kontext ab, wie viele Variablen benötigt werden. Wenn jeder vom Benutzer eingegebene Wert gespeichert werden muss, ist es nicht möglich, dieselbe Variable „wiederzuverwenden“, um verschiedene Werte vom Benutzer zu lesen. Bedenke Folgendes:"
      ],
      "metadata": {
        "id": "dBMa5ZA2F7og"
      }
    },
    {
      "cell_type": "code",
      "source": [
        "number1 = int(input(\"Erste Zahle: \"))\n",
        "number2 = int(input(\"Zweite Zahl: \"))\n",
        "\n",
        "print(f\"{number1} + {number2} = {number1+number2}\")"
      ],
      "metadata": {
        "id": "LnoFdrmZGAfh",
        "colab": {
          "base_uri": "https://localhost:8080/"
        },
        "outputId": "5cb1132f-9c9e-4cd6-b0ba-4ee6dfd3cbf1"
      },
      "execution_count": 130,
      "outputs": [
        {
          "output_type": "stream",
          "name": "stdout",
          "text": [
            "Erste Zahle: 5\n",
            "Zweite Zahl: 3\n",
            "5 + 3 = 8\n"
          ]
        }
      ]
    },
    {
      "cell_type": "markdown",
      "source": [
        "### Übung\n",
        "\n",
        "Schreibe ein Programm, das den Benutzer nach einer Anzahl von Tagen fragt. Das Programm gibt dann die Anzahl der Sekunden in der angegebenen Anzahl von Tagen aus.\n",
        "\n",
        "Das Programm sollte wie folgt funktionieren:\n",
        "\n",
        "\n",
        "```\n",
        "Wie viele Tage? 1\n",
        "Sekunden in so vielen Tagen: 86400\n",
        "```\n",
        "\n",
        "oder\n",
        "\n",
        "\n",
        "\n",
        "```\n",
        "Wie viele Tage? 7\n",
        "Sekunden in so vielen Tagen: 604800\n",
        "```\n",
        "\n",
        "\n"
      ],
      "metadata": {
        "id": "R-U8ouiKGMmA"
      }
    },
    {
      "cell_type": "code",
      "source": [
        "tag = int(input(\"Wieviele Tage sollen berechnet werden?: \"))\n",
        "stunden_pro_tag = 24\n",
        "minuten_pro_stunde = 60\n",
        "sekunden_pro_minute = 60\n",
        "sekunden_am_tag = (sekunden_pro_minute * minuten_pro_stunde) * stunden_pro_tag\n",
        "if tag <= 0:\n",
        "  print(\"Bitte geben Sie eine gültige Anzahl ein!\")\n",
        "else:\n",
        "  sekunden_am_tag = (sekunden_pro_minute * minuten_pro_stunde) * stunden_pro_tag\n",
        "  gesamt_sekunden = sekunden_am_tag * tag\n",
        "if tag == 1:\n",
        "  print(f\"{tag} Tag beträgt {gesamt_sekunden} Sekunden.\")\n",
        "else:\n",
        "  print(f\"{tag} Tage beträgt {gesamt_sekunden} Sekunden.\")"
      ],
      "metadata": {
        "id": "KXTk3yuHGY7u",
        "colab": {
          "base_uri": "https://localhost:8080/"
        },
        "outputId": "fa1bbbb4-17c1-4611-ae52-a97b5c4d17e2"
      },
      "execution_count": 151,
      "outputs": [
        {
          "output_type": "stream",
          "name": "stdout",
          "text": [
            "Wieviele Tage sollen berechnet werden?: 3\n",
            "3 Tage beträgt 259200 Sekunden.\n"
          ]
        }
      ]
    },
    {
      "cell_type": "markdown",
      "source": [
        "### Übung 2\n",
        "\n",
        "Dieses Programm verlangt vom Benutzer drei Zahlen. Anschließend gibt das Programm das Produkt aus, also die Zahlen multipliziert miteinander. Allerdings stimmt mit dem Programm etwas nicht – es funktioniert nicht richtig, wie du siehst, wenn du es ausführst. Du wurdest gebeten das Problem zu beheben.\n",
        "\n",
        "Ein Beispiel für die gewünschte Ausführung des Programms:\n",
        "\n",
        "\n",
        "```\n",
        "Bitte geben Sie die erste Zahl ein: 2\n",
        "Bitte geben Sie die zweite Zahl ein: 3\n",
        "Bitte geben Sie die dritte Zahl ein: 5\n",
        "Das Produkt ist 30\n",
        "```\n",
        "\n"
      ],
      "metadata": {
        "id": "ccosEMOjGcq3"
      }
    },
    {
      "cell_type": "code",
      "source": [
        "zahl1 = int(input(\"Bitte geben Sie die erste Zahl ein: \"))\n",
        "zahl2 = int(input(\"Bitte geben Sie die zweite Zahl ein: \"))\n",
        "zahl3 = int(input(\"Bitte geben Sie die dritte Zahl ein: \"))\n",
        "\n",
        "product = zahl1 * zahl2 * zahl3\n",
        "\n",
        "print(\"Das Produkt ist \", product)"
      ],
      "metadata": {
        "id": "nQdPbdWmGuSN",
        "colab": {
          "base_uri": "https://localhost:8080/"
        },
        "outputId": "1f57e117-9cdd-464c-98fb-f90f36e04e1f"
      },
      "execution_count": 160,
      "outputs": [
        {
          "output_type": "stream",
          "name": "stdout",
          "text": [
            "Bitte geben Sie die erste Zahl ein: 2\n",
            "Bitte geben Sie die zweite Zahl ein: 3\n",
            "Bitte geben Sie die dritte Zahl ein: 5\n",
            "Das Produkt ist  30\n"
          ]
        }
      ]
    },
    {
      "cell_type": "markdown",
      "source": [
        "### Übung 3\n",
        "\n",
        "Schreibe ein Programm, das den Benutzer nach zwei Zahlen fragt. Das Programm gibt dann die Summe und das Produkt der beiden Zahlen aus.\n",
        "\n",
        "Das Programm sollte wie folgt funktionieren:\n",
        "\n",
        "\n",
        "```\n",
        "Zahl 1: 3\n",
        "Zahl 2: 7\n",
        "Die Summe der Zahlen: 10 Das Produkt der Zahlen: 21\n",
        "```\n",
        "\n"
      ],
      "metadata": {
        "id": "riXBs_bsHB2c"
      }
    },
    {
      "cell_type": "code",
      "source": [
        "zahl1 = int(input(\"Bitte geben Sie die erste Zahl ein: \"))\n",
        "zahl2 = int(input(\"Bitte geben Sie die zweite Zahl ein: \"))\n",
        "summe = zahl1 + zahl2\n",
        "produkt = zahl1 * zahl2\n",
        "print(f\"Die Summe der Zahlen beträgt: {summe}. Das Produkt der Zahlen beträgt: {produkt}\")"
      ],
      "metadata": {
        "id": "JEfAqESxHR_1",
        "colab": {
          "base_uri": "https://localhost:8080/"
        },
        "outputId": "bed09403-8933-46f6-f761-ddc6eb687244"
      },
      "execution_count": 161,
      "outputs": [
        {
          "output_type": "stream",
          "name": "stdout",
          "text": [
            "Bitte geben Sie die erste Zahl ein: 3\n",
            "Bitte geben Sie die zweite Zahl ein: 7\n",
            "Die Summe der Zahlen beträgt: 10. Das Produkt der Zahlen beträgt: 21\n"
          ]
        }
      ]
    },
    {
      "cell_type": "markdown",
      "source": [
        "### Übung 4\n",
        "\n",
        "Schreibe ein Programm, das den Benutzer nach vier Zahlen fragt. Das Programm druckt dann die Summe und den Mittelwert der Zahlen aus.\n",
        "\n",
        "Das Programm sollte wie folgt funktionieren:\n",
        "\n",
        "```\n",
        "Zahl 1: 2\n",
        "Zahl 2: 1\n",
        "Zahl 3: 6\n",
        "Zahl 4: 7\n",
        "Die Summe der Zahlen ist 16 und der Mittelwert ist 4,0\n",
        "```\n",
        "\n"
      ],
      "metadata": {
        "id": "5LOmsMnJHKn7"
      }
    },
    {
      "cell_type": "code",
      "source": [
        "zahl1 = int(input(\"Bitte geben Sie die erste Zahl ein: \"))\n",
        "zahl2 = int(input(\"Bitte geben Sie die zweite Zahl ein: \"))\n",
        "zahl3 = int(input(\"Bitte geben Sie die dritte Zahl ein: \"))\n",
        "zahl4 = int(input(\"Bitte geben Sie die vierte Zahl ein: \"))\n",
        "summe = zahl1 + zahl2 + zahl3 + zahl4\n",
        "mittelwert = summe / 4\n",
        "print(f\"Die Summe der Zahlen beträgt: {summe}. Der Mittelwert beträgt: {mittelwert}.\")"
      ],
      "metadata": {
        "id": "O9B7otBHHT3I",
        "colab": {
          "base_uri": "https://localhost:8080/"
        },
        "outputId": "c1d8a7bc-f86d-43e2-a612-c40a2caae283"
      },
      "execution_count": 162,
      "outputs": [
        {
          "output_type": "stream",
          "name": "stdout",
          "text": [
            "Bitte geben Sie die erste Zahl ein: 2\n",
            "Bitte geben Sie die zweite Zahl ein: 1\n",
            "Bitte geben Sie die dritte Zahl ein: 6\n",
            "Bitte geben Sie die vierte Zahl ein: 7\n",
            "Die Summe der Zahlen beträgt: 16. Der Mittelwert beträgt: 4.0.\n"
          ]
        }
      ]
    },
    {
      "cell_type": "markdown",
      "source": [
        "### Übung 5\n",
        "\n",
        "Schreibe ein Programm, das den typischen Lebensmittelverbrauch eines Benutzers schätzt.\n",
        "\n",
        "Das Programm fragt den Benutzer, wie oft er pro Woche in der Mensa isst. Dann fragt es nach dem Preis eines typischen Mittagessens für Studenten und nach dem Geld, das er während der Woche für Lebensmittel ausgibt.\n",
        "\n",
        "Auf Grundlage dieser Informationen berechnet das Programm den typischen Lebensmittelverbrauch des Benutzers sowohl wöchentlich als auch täglich.\n",
        "\n",
        "Das Programm sollte wie folgt funktionieren:\n",
        "\n",
        "```\n",
        "\n",
        "Wie oft pro Woche essen Sie in der Mensa? 4\n",
        "Wie viel kostet ein typisches Mittagessen für Studenten? 2,5\n",
        "Wie viel Geld geben Sie pro Woche für Lebensmittel aus? 28,5\n",
        "\n",
        "Durchschnittliche Lebensmittelausgaben: Täglich: 5,5 Euro Wöchentlich: 38,5 Euro\n",
        "```\n",
        "\n"
      ],
      "metadata": {
        "id": "p7t1618WHY2r"
      }
    },
    {
      "cell_type": "code",
      "source": [
        "mensa = int(input(\"Wie oft pro Woche essen Sie in der Mensa?: \"))\n",
        "kosten = float(input(\"Wie viel kostet ein typisches Mittagessen für Studenten?: \"))\n",
        "Lebensmittel_kosten = float(input(\"Wie viel Geld geben Sie pro Woche für Lebensmittel aus?: \"))\n",
        "tage_pro_woche = 7\n",
        "wöchentlich = (mensa * kosten) + Lebensmittel_kosten\n",
        "täglich = wöchentlich / tage_pro_woche\n",
        "print(f\"Ihre durchschnittlichen Lebensmittelausgaben betragen: Täglich: {täglich} €. Wöchentlich: {wöchentlich} €.\")"
      ],
      "metadata": {
        "id": "dSHqTLjyHjh6",
        "colab": {
          "base_uri": "https://localhost:8080/"
        },
        "outputId": "5f6c4695-9799-421d-fd8b-ee6d2ba59a36"
      },
      "execution_count": 165,
      "outputs": [
        {
          "output_type": "stream",
          "name": "stdout",
          "text": [
            "Wie oft pro Woche essen Sie in der Mensa?: 4\n",
            "Wie viel kostet ein typisches Mittagessen für Studenten?: 2.5\n",
            "Wie viel Geld geben Sie pro Woche für Lebensmittel aus?: 28.5\n",
            "Ihre durchschnittlichen Lebensmittelausgaben betragen: Täglich: 5.5 €. Wöchentlich: 38.5 €.\n"
          ]
        }
      ]
    },
    {
      "cell_type": "markdown",
      "source": [
        "### Übung 6\n",
        "\n",
        "Schreibe ein Programm, das nach der Anzahl der Studierenden eines Kurses und der gewünschten Gruppengröße fragt. Das Programm gibt dann die Anzahl der aus den Studierenden des Kurses gebildeten Gruppen aus. Wenn die Aufteilung nicht gleichmäßig ist, kann es sein, dass eine der Gruppen weniger Mitglieder hat als angegeben.\n",
        "\n",
        "Wenn dein Code nicht wie erwartet funktioniert, kannst du die Übung auch später fortsetzen. Das Thema des nächsten Abschnitts sind bedingte Anweisungen . Diese Übung kann auch mit einer bedingten Konstruktion gelöst werden.\n",
        "\n",
        "\n",
        "```\n",
        "Wie viele Studierende nehmen am Kurs teil? 8\n",
        "Gewünschte Gruppengröße? 4\n",
        "Anzahl der gebildeten Gruppen: 2\n",
        "\n",
        "Wie viele Studierende nehmen am Kurs teil? 11\n",
        "Gewünschte Gruppengröße? 3\n",
        "Anzahl der gebildeten Gruppen: 4\n",
        "```\n",
        "\n",
        "\n",
        "\n",
        "Hinweis: Der Operator für die Division ganzer Zahlen //könnte hier nützlich sein."
      ],
      "metadata": {
        "id": "Nvr34OfXHpoy"
      }
    },
    {
      "cell_type": "code",
      "source": [
        "# Lösung für gerade Anzahl an Teilnehmer\n",
        "kurs = int(input(\"Wie viele Studierende nehmen am Kurs teil: \"))\n",
        "gruppen_größe = int(input(\"Wie viele Teilnehmer soll eine Gruppe haben?: \"))\n",
        "anzahl = kurs // gruppen_größe\n",
        "print(f\"Anzahl der gebildeten Gruppen: {anzahl}\")"
      ],
      "metadata": {
        "id": "2AjnYYQgH8-v",
        "colab": {
          "base_uri": "https://localhost:8080/"
        },
        "outputId": "01a00a22-09ef-4886-cdd2-16d59b816611"
      },
      "execution_count": 176,
      "outputs": [
        {
          "output_type": "stream",
          "name": "stdout",
          "text": [
            "Wie viele Studierende nehmen am Kurs teil: 8\n",
            "Wie viele Teilnehmer soll eine Gruppe haben?: 4\n",
            "Anzahl der gebildeten Gruppen: 2\n"
          ]
        }
      ]
    },
    {
      "cell_type": "code",
      "source": [
        "# Lösung für gerade und ungerade Anzahl an Teilnehmer (Komplett- Lösung)\n",
        "kurs = int(input(\"Wie viele Studierende nehmen am Kurs teil: \"))\n",
        "gruppen_größe = int(input(\"Wie viele Teilnehmer soll eine Gruppe haben?: \"))\n",
        "anzahl = kurs // gruppen_größe\n",
        "if kurs % gruppen_größe != 0: # != ungleich\n",
        "    anzahl += 1\n",
        "print(f\"Anzahl der gebildeten Gruppen: {anzahl}\")"
      ],
      "metadata": {
        "colab": {
          "base_uri": "https://localhost:8080/"
        },
        "id": "oFfpMUGy2up9",
        "outputId": "bc05ed58-f329-496b-a1d9-d967437e2669"
      },
      "execution_count": 188,
      "outputs": [
        {
          "output_type": "stream",
          "name": "stdout",
          "text": [
            "Wie viele Studierende nehmen am Kurs teil: 11\n",
            "Wie viele Teilnehmer soll eine Gruppe haben?: 3\n",
            "Anzahl der gebildeten Gruppen: 4\n"
          ]
        }
      ]
    },
    {
      "cell_type": "markdown",
      "source": [
        "----\n",
        "\n",
        "# Teil 4: Bedingte Aussagen - Conditional Statements\n"
      ],
      "metadata": {
        "id": "ga1QnLLrySBP"
      }
    },
    {
      "cell_type": "markdown",
      "source": [
        "Bisher wurde jedes Programm, das wir geschrieben haben, Zeile für Zeile in der Reihenfolge ausgeführt. Anstatt jede Codezeile jedes Mal auszuführen, wenn ein Programm ausgeführt wird, ist es oft nützlich, Abschnitte des Programms zu erstellen, die nur in bestimmten Situationen ausgeführt werden.\n",
        "\n",
        "Der folgende Code prüft beispielsweise, ob das Alter des Benutzers innerhalb einer bestimmten Altersgrenze liegt:"
      ],
      "metadata": {
        "id": "7SIhjqmcyZ-T"
      }
    },
    {
      "cell_type": "code",
      "source": [
        "age = int(input(\"Wie alt sind Sie?\"))\n",
        "\n",
        "if age > 17:\n",
        "    print(\"Du bist volljährig!\")\n",
        "    print(\"Hier ist eine Kopie von GTA6 für Sie.\")\n",
        "\n",
        "print(\"Nächster Kunde, bitte!\")"
      ],
      "metadata": {
        "id": "LWt7LqYryiY3",
        "colab": {
          "base_uri": "https://localhost:8080/"
        },
        "outputId": "245a2d82-6073-422c-c587-866a6b9a54e1"
      },
      "execution_count": 190,
      "outputs": [
        {
          "output_type": "stream",
          "name": "stdout",
          "text": [
            "Wie alt sind Sie?33\n",
            "Du bist volljährig!\n",
            "Hier ist eine Kopie von GTA6 für Sie.\n",
            "Nächster Kunde, bitte!\n"
          ]
        }
      ]
    },
    {
      "cell_type": "markdown",
      "source": [
        "Typische Bedingungen bestehen aus dem Vergleich zweier Werte. Hier ist eine Tabelle mit den häufigsten Vergleichsoperatoren, die in Python verwendet werden:\n",
        "\n",
        " | Operator | Zweck                        | Beispiel    |\n",
        "|-----------|------------------------------|-------------|\n",
        "| ==        | Gleich                       | a == b      |\n",
        "| !=        | Nicht gleich                 | a != b      |\n",
        "| >         | Größer als                   | a > b       |\n",
        "| >=        | Größer oder gleich zu        | a >= b      |\n",
        "| <         | Weniger als                  | a < b       |\n",
        "| <=        | Weniger als oder gleich      | a <= b      |\n"
      ],
      "metadata": {
        "id": "s31dAzLU0C8s"
      }
    },
    {
      "cell_type": "markdown",
      "source": [
        "Werfen wir einen Blick auf ein Programm, das verschiedene Dinge ausgibt, je nachdem, ob die Zahl, die der Benutzer eingibt, negativ, positiv oder gleich Null ist."
      ],
      "metadata": {
        "id": "A9Ay5gqw0IwI"
      }
    },
    {
      "cell_type": "code",
      "source": [
        "number = int(input(\"Bitte geben Sie eine Zahl ein: \"))\n",
        "\n",
        "if number < 0:\n",
        "    print(\"Die Zahl ist negativ.\")\n",
        "\n",
        "if number > 0:\n",
        "    print(\"Die Zahl ist positiv.\")\n",
        "\n",
        "if number == 0:\n",
        "    print(\"Die Zahl ist Null.\")"
      ],
      "metadata": {
        "id": "-N_TqSAJ01Yw",
        "colab": {
          "base_uri": "https://localhost:8080/"
        },
        "outputId": "7b742fb6-66fd-4aeb-ba02-feab21a310b1"
      },
      "execution_count": 191,
      "outputs": [
        {
          "output_type": "stream",
          "name": "stdout",
          "text": [
            "Bitte geben Sie eine Zahl ein: 3\n",
            "Die Zahl ist positiv.\n"
          ]
        }
      ]
    },
    {
      "cell_type": "markdown",
      "source": [
        "### Übung\n",
        "\n",
        "Mit welchen drei Fällen wird die eingegebene Zahl in diesem Code unterschieden?"
      ],
      "metadata": {
        "id": "VniITKKZ1L4k"
      }
    },
    {
      "cell_type": "markdown",
      "source": [
        "Deine Antwort:\n",
        "\n",
        "Fall 1: Zahl ist ***kleiner*** als 0\n",
        "\n",
        "Fall 2: Zahl ist ***größer*** als 0\n",
        "\n",
        "Fall 3: Zahl ist ***gleich groß*** wie 0"
      ],
      "metadata": {
        "id": "T7f9wJcG1dgr"
      }
    },
    {
      "cell_type": "markdown",
      "source": [
        "Python erkennt, dass ein Codeblock Teil einer bedingten Anweisung ist, wenn jede Codezeile im Block gleich eingerückt ist. Das ist, es sollte ein bisschen Leerzeichen am Anfang jeder Codezeile innerhalb des Codeblocks geben. Jede Zeile sollte die gleiche Menge an Leerzeichen haben.\n",
        "\n",
        "Zum Beispiel:"
      ],
      "metadata": {
        "id": "sAdoT0e91m7R"
      }
    },
    {
      "cell_type": "code",
      "source": [
        "password = input(\"Bitte geben Sie ein Passwort ein: \")\n",
        "\n",
        "if password == \"kittycat\":\n",
        "    print(\"Du kennst das Passwort!\")\n",
        "    print(\"Sie müssen entweder der autorisierte Benutzer sein...\")\n",
        "    print(\"...oder ein ziemlich geschickter Hacker.\")\n",
        "\n",
        "print(\"Das Programm hat seine Ausführung beendet. Danke und tschüss!\")"
      ],
      "metadata": {
        "id": "1N2WpwB01qYG",
        "colab": {
          "base_uri": "https://localhost:8080/"
        },
        "outputId": "686fe956-2734-4cb8-8b6c-f25b96feb578"
      },
      "execution_count": 194,
      "outputs": [
        {
          "output_type": "stream",
          "name": "stdout",
          "text": [
            "Bitte geben Sie ein Passwort ein: kittycat\n",
            "Du kennst das Passwort!\n",
            "Sie müssen entweder der autorisierte Benutzer sein...\n",
            "...oder ein ziemlich geschickter Hacker.\n",
            "Das Programm hat seine Ausführung beendet. Danke und tschüss!\n"
          ]
        }
      ]
    },
    {
      "cell_type": "markdown",
      "source": [
        "### Übung\n",
        "\n",
        "Schreiben ein Programm, das den Benutzer nach einer ganzen Zahl fragt. Das Programm sollte \"Orwell\" ausdrucken, wenn die Zahl genau 1984 ist, und ansonsten nichts tun.\n",
        "\n",
        "\n",
        "\n",
        "```\n",
        "Tippe bitte eine Zahl ein: 2020\n",
        "```\n",
        "\n",
        "\n",
        "\n",
        "```\n",
        "Tippe bitte eine Zahl ein: 1984\n",
        "Orwell\n",
        "```\n",
        "\n",
        "\n",
        "\n"
      ],
      "metadata": {
        "id": "pUYnXV4_2Dy4"
      }
    },
    {
      "cell_type": "code",
      "source": [
        "zahl = int(input(\"Tippe bitte eine Zahl ein: \"))\n",
        "\n",
        "if zahl == 1984:\n",
        "  print(\"Orwell\")\n",
        "\n",
        "print(\"Das Programm hat seine Ausführung beendet. Danke und tschüss!\")"
      ],
      "metadata": {
        "id": "nyepb6aC2JMN",
        "colab": {
          "base_uri": "https://localhost:8080/"
        },
        "outputId": "3546537d-0b37-4024-c305-9667126d5ac1"
      },
      "execution_count": 202,
      "outputs": [
        {
          "output_type": "stream",
          "name": "stdout",
          "text": [
            "Tippe bitte eine Zahl ein: 1984\n",
            "Orwell\n",
            "Das Programm hat seine Ausführung beendet. Danke und tschüss!\n"
          ]
        }
      ]
    },
    {
      "cell_type": "markdown",
      "source": [
        "### Übung\n",
        "\n",
        "Schreiben ein Programm, das den Benutzer nach einer ganzen Zahl fragt. Wenn die Zahl kleiner als Null ist, sollte das Programm die Zahl multipliziert mit -1 ausdrucken. Andernfalls druckt das Programm die Nummer so aus, wie sie ist. Beispiele für erwartete Ausgaben:\n",
        "\n",
        "```\n",
        "Tippe bitte eine Zahl ein: -7\n",
        "Der absolute Wert deiner Zahl ist 7\n",
        "```\n",
        "\n",
        "```\n",
        "Tippe bitte eine Zahl ein: 1\n",
        "Der absolute Wert deiner Zahl ist 1\n",
        "```\n",
        "```\n",
        "Tippe bitte eine Zahl ein: -99\n",
        "Der absolute Wert deiner Zahl ist 99\n",
        "```\n"
      ],
      "metadata": {
        "id": "09GiTU6P2giF"
      }
    },
    {
      "cell_type": "code",
      "source": [
        "zahl = int(input(\"Tippe bitte eine Zahl ein: \"))\n",
        "\n",
        "if zahl < 0:\n",
        " print(f\"Der absolute Wert deiner Zahl ist: {(zahl * -1)}\")\n",
        "else:\n",
        "  print(f\"Der absolute Wert deiner Zahl ist: {zahl}\")"
      ],
      "metadata": {
        "id": "QABh_NSa3L-n",
        "colab": {
          "base_uri": "https://localhost:8080/"
        },
        "outputId": "e2be76a5-1a18-496b-c696-9d5f8cbf8b74"
      },
      "execution_count": 210,
      "outputs": [
        {
          "output_type": "stream",
          "name": "stdout",
          "text": [
            "Tippe bitte eine Zahl ein: -99\n",
            "Der absolute Wert deiner Zahl ist: 99\n"
          ]
        }
      ]
    },
    {
      "cell_type": "markdown",
      "source": [
        " Schreibe ein Programm, das nach dem Namen des Benutzers fragt. Wenn der Name etwas anderes als \"Jerry\" ist, fragt das Programm nach der Anzahl der Portionen und druckt die Gesamtkosten aus. Der Preis für eine einzelne Portion beträgt 5,90.\n",
        "\n",
        "Zwei Beispiele für die Ausführung des Programms:\n",
        "\n",
        "\n",
        "```\n",
        "Bitte sagen Sie mir Ihren Namen: Kramer\n",
        "Wie viele Portionen Suppe? 2\n",
        "Der Gesamtpreis beträgt 11,8\n",
        "Der Nächste bitte!\n",
        "```\n",
        "\n",
        "\n",
        "```\n",
        "Bitte sagen Sie mir Ihren Namen: Jerry\n",
        "Der Nächste bitte!\n",
        "```\n",
        "\n",
        "\n"
      ],
      "metadata": {
        "id": "iseTrOu13RKr"
      }
    },
    {
      "cell_type": "code",
      "source": [
        "name = input(\"Bitte sagen Sie mir Ihren Namen: \")\n",
        "preis = 5.90\n",
        "\n",
        "if name != \"Jerry\":\n",
        "  portion = int(input(\"Wie viele Portionen Suppe sollen es sein?: \"))\n",
        "  gesamtpreis = preis * portion\n",
        "  print(f\"Der Gesamtpreis beträgt: {gesamtpreis}\")\n",
        "else:\n",
        "  print(\"Auf Wiedersehen, Jerry!\")\n",
        "print(\"Der Nächste bitte!\")"
      ],
      "metadata": {
        "id": "JGPzZtmL3pwl",
        "colab": {
          "base_uri": "https://localhost:8080/"
        },
        "outputId": "8a21c5c3-9c8c-4e29-903b-c66731dd765a"
      },
      "execution_count": 241,
      "outputs": [
        {
          "output_type": "stream",
          "name": "stdout",
          "text": [
            "Bitte sagen Sie mir Ihren Namen: Jerry\n",
            "Auf Wiedersehen, Jerry!\n",
            "Der Nächste bitte!\n"
          ]
        }
      ]
    },
    {
      "cell_type": "markdown",
      "source": [
        "Schreibe ein Programm, das den Benutzer nach einer ganzen Zahl fragt. Das Programm sollte dann die Größe der Zahl gemäß den folgenden Beispielen ausgeben:\n",
        "\n",
        "```\n",
        "Bitte geben Sie eine Zahl ein: 950\n",
        "Diese Zahl ist kleiner als 1000\n",
        "Dankeschön!\n",
        "```\n",
        "\n",
        "```\n",
        "Bitte geben Sie eine Zahl ein: 59\n",
        "Diese Zahl ist kleiner als 1000\n",
        "Diese Zahl ist kleiner als 100\n",
        "Dankeschön!\n",
        "```\n",
        "```\n",
        "Bitte geben Sie eine Zahl ein: 2\n",
        "Diese Zahl ist kleiner als 1000\n",
        "Diese Zahl ist kleiner als 100\n",
        "Diese Zahl ist kleiner als 10\n",
        "Dankeschön!\n",
        "```\n",
        "\n",
        "```\n",
        "Bitte geben Sie eine Zahl ein: 1123\n",
        "Dankeschön!\n",
        "```\n",
        "\n"
      ],
      "metadata": {
        "id": "jdnJ4_ji3rLd"
      }
    },
    {
      "cell_type": "code",
      "source": [
        "zahl = int(input(\"Bitte geben Sie eine Zahl ein: \"))\n",
        "if zahl < 1000:\n",
        "  print(\"Diese Zahl ist kleiner als 1000.\")\n",
        "if zahl < 100:\n",
        "  print(\"Diese Zahl ist kleiner als 100.\")\n",
        "if zahl < 10:\n",
        "  print(\"Diese Zahl ist kleiner als 10.\")\n",
        "\n",
        "print(\"Dankeschön!\")"
      ],
      "metadata": {
        "id": "nOXh4vbU4Twy",
        "colab": {
          "base_uri": "https://localhost:8080/"
        },
        "outputId": "a37f087c-54d5-429d-da62-bd2bb0d04870"
      },
      "execution_count": 8,
      "outputs": [
        {
          "output_type": "stream",
          "name": "stdout",
          "text": [
            "Bitte geben Sie eine Zahl ein: 9\n",
            "Diese Zahl ist kleiner als 1000.\n",
            "Diese Zahl ist kleiner als 100.\n",
            "Diese Zahl ist kleiner als 10.\n",
            "Dankeschön!\n"
          ]
        }
      ]
    },
    {
      "cell_type": "markdown",
      "source": [
        "## Boolesche Werte und boolesche Ausdrücke\n",
        "\n",
        "\n",
        "Jede Bedingung, die in einer bedingten Aussage verwendet wird, führt zu einem Wahrheitswert, d.h. entweder wahr oder falsch. Zum Beispiel ist die Bedingung a < 5 wahr, wenn a kleiner als 5 ist, und falsch, wenn a gleich oder größer als 5 ist.\n",
        "\n",
        "Diese Arten von Werten werden oft als Boolesche Werte bezeichnet, benannt nach dem englischen Mathematiker George Boole. In Python werden sie durch den Datentyp bool behandelt. Variablen vom Typ bool können nur zwei Werte annehmen: Wahr oder Falsch.\n",
        "\n",
        "Jedes Stück Code, das einen boolschen Wert ergibt, wird als boolscher Ausdruck bezeichnet. So ist beispielsweise die Bedingung in einer bedingten Anweisung immer ein boolescher Ausdruck, und die Begriffe Bedingung und boolescher Ausdruck können oft austauschbar verwendet werden.\n",
        "\n",
        "Das Ergebnis eines booleschen Ausdrucks kann in einer Variablen gespeichert werden, genau wie das Ergebnis einer numerischen Berechnung:"
      ],
      "metadata": {
        "id": "t-SHespp4WPW"
      }
    },
    {
      "cell_type": "code",
      "source": [
        "a = 4\n",
        "condition = a < 5\n",
        "print(condition)\n",
        "if condition:\n",
        "    print(\"a ist kleiner als 5\")"
      ],
      "metadata": {
        "id": "P7EaYy6A4eMv",
        "colab": {
          "base_uri": "https://localhost:8080/"
        },
        "outputId": "f0266b16-100f-47ba-ab49-d2b828815ea1"
      },
      "execution_count": 11,
      "outputs": [
        {
          "output_type": "stream",
          "name": "stdout",
          "text": [
            "True\n",
            "a ist kleiner als 5\n"
          ]
        }
      ]
    },
    {
      "cell_type": "markdown",
      "source": [
        "Die Python-Schlüsselwörter True und False können auch direkt verwendet werden. Im folgenden Beispiel wird der `print` Befehl jedes Mal ausgeführt, weil der Wert der Bedingung True ist:"
      ],
      "metadata": {
        "id": "SAoPmUKE4rjr"
      }
    },
    {
      "cell_type": "code",
      "source": [
        "condition = True\n",
        "if condition:\n",
        "    print(\"Diese Zeile wird jedes mal ausgegeben.\")"
      ],
      "metadata": {
        "id": "OqZqsu6h4xJw",
        "colab": {
          "base_uri": "https://localhost:8080/"
        },
        "outputId": "d122b4ab-e232-4f38-be08-866212b74253"
      },
      "execution_count": 12,
      "outputs": [
        {
          "output_type": "stream",
          "name": "stdout",
          "text": [
            "Diese Zeile wird jedes mal ausgegeben.\n"
          ]
        }
      ]
    },
    {
      "cell_type": "markdown",
      "source": [
        "### Übung\n",
        "\n",
        "Schreibe ein Programm, das den Benutzer nach zwei Zahlen und einer Operation fragt. Wenn die Operation addieren, multiplizieren oder subtrahieren ist, soll das Programm das Ergebnis der Operation mit den angegebenen Zahlen berechnen und ausgeben. Wenn der Benutzer etwas anderes eingibt, soll das Programm nichts ausgeben.\n",
        "\n",
        "Einige Beispiele für das erwartete Verhalten:\n",
        "```\n",
        "Zahl 1: 10\n",
        "Zahl 2: 17\n",
        "Operation: Addieren\n",
        "10 + 17 = 27\n",
        "```\n",
        "```\n",
        "Zahl 1: 4\n",
        "Zahl 2: 6\n",
        "Operation: Multiplizieren\n",
        "4 * 6 = 24\n",
        "```\n",
        "```\n",
        "Zahl 1: 4\n",
        "Zahl 2: 6\n",
        "Operation: Subtrahieren\n",
        "4 - 6 = -2\n",
        "```"
      ],
      "metadata": {
        "id": "2B6Mq36T450K"
      }
    },
    {
      "cell_type": "code",
      "source": [
        "zahl1 = float(input(\"Bitte geben Sie die erste Zahl ein: \"))\n",
        "zahl2 = float(input(\"Bitte geben Sie die zweite Zahl ein: \"))\n",
        "operation = input(\"Bitte geben Sie die gewünschte Operation ein (addieren, multiplizieren, subtrahieren, dividieren): \")\n",
        "\n",
        "if operation == \"addieren\":\n",
        "  ergebnis = zahl1 + zahl2\n",
        "  print(f\"{zahl1} + {zahl2} = {ergebnis}\")\n",
        "elif operation == \"multiplizieren\":\n",
        "  ergebnis = zahl1 * zahl2\n",
        "  print(f\"{zahl1} * {zahl2} = {ergebnis}\")\n",
        "elif operation == \"subtrahieren\":\n",
        "  ergebnis = zahl1 - zahl2\n",
        "  print(f\"{zahl1} - {zahl2} = {ergebnis}\")\n",
        "elif operation == \"dividieren\":\n",
        "  ergebnis = zahl1 / zahl2\n",
        "  print(f\"{zahl1} / {zahl2} = {ergebnis}\")\n",
        "else:\n",
        "  print(\"Ungültige Operation.\")"
      ],
      "metadata": {
        "id": "DLIBvEqj5SCr",
        "colab": {
          "base_uri": "https://localhost:8080/"
        },
        "outputId": "1f66cdd9-8f6a-4b06-8c33-56e93d5fb874"
      },
      "execution_count": 30,
      "outputs": [
        {
          "output_type": "stream",
          "name": "stdout",
          "text": [
            "Bitte geben Sie die erste Zahl ein: 2.5\n",
            "Bitte geben Sie die zweite Zahl ein: 3.5\n",
            "Bitte geben Sie die gewünschte Operation ein (addieren, multiplizieren, subtrahieren, dividieren): addieren\n",
            "2.5 + 3.5 = 6.0\n"
          ]
        }
      ]
    },
    {
      "cell_type": "markdown",
      "source": [
        "### Übung 2\n",
        "\n",
        "Schreibe ein Programm, das den Benutzer nach einer Temperatur in Grad Fahrenheit fragt und diese dann in Grad Celsius ausgibt. Wenn die umgerechnete Temperatur unter null Grad Celsius fällt, soll das Programm auch ausgeben: „Brr! Es ist kalt hier drinnen!“.\n",
        "\n",
        "Die Formel für die Umrechnung von Grad Fahrenheit in Grad Celsius findest du leicht in einer Suchmaschine deiner Wahl.\n",
        "\n",
        "Zwei Beispiele für das erwartete Verhalten:\n",
        "```\n",
        "Bitte geben Sie eine Temperatur (F) ein: 101\n",
        "101 Grad Fahrenheit entspricht 38,333333333333336 Grad Celsius\n",
        "```\n",
        "```\n",
        "Bitte geben Sie eine Temperatur (F) ein: 21\n",
        "21 Grad Fahrenheit entspricht -6,111111111111111 Grad Celsius\n",
        "Brr! Es ist kalt hier drinnen\n",
        "```"
      ],
      "metadata": {
        "id": "Sct1H94I5TYn"
      }
    },
    {
      "cell_type": "code",
      "source": [
        "fahrenheit = float(input(\"Bitte geben Sie eine Temperatur in Fahrenheit ein: \"))\n",
        "grad = (fahrenheit - 32) / 1.8\n",
        "\n",
        "print(f\"{fahrenheit} Grad Fahrenheit entspricht {grad} Grad Celsius.\")\n",
        "\n",
        "if grad < 0:\n",
        "  print(\"Brr! Es ist kalt hier drinnen.\")\n",
        "elif grad < 10:\n",
        "  print(\"Recht frisch hier!\")\n",
        "elif grad < 20:\n",
        "  print(\"Angenehm.\")\n",
        "elif grad < 30:\n",
        "  print(\"Endlich Sommer.\")\n",
        "else:\n",
        "  print(\"It´s getting hooooot in heeereee!\")"
      ],
      "metadata": {
        "id": "M2wRZPzY5pme",
        "colab": {
          "base_uri": "https://localhost:8080/"
        },
        "outputId": "018d69cb-ec5d-47ef-fc4a-a001ccd632de"
      },
      "execution_count": 37,
      "outputs": [
        {
          "output_type": "stream",
          "name": "stdout",
          "text": [
            "Bitte geben Sie eine Temperatur in Fahrenheit ein: 76\n",
            "76.0 Grad Fahrenheit entspricht 24.444444444444443 Grad Celsius.\n",
            "Endlich Sommer.\n"
          ]
        }
      ]
    },
    {
      "cell_type": "markdown",
      "source": [
        "### Übung 3\n",
        "\n",
        "Schreibe ein Programm, das nach dem Stundenlohn, den Arbeitsstunden und dem Wochentag fragt. Das Programm sollte dann den Tageslohn ausgeben, der dem Stundenlohn multipliziert mit den geleisteten Arbeitsstunden entspricht, außer an Sonntagen, wenn der Stundenlohn verdoppelt wird.\n",
        "\n",
        "```\n",
        "Stundenlohn: 8,5\n",
        "Geleistete Stunden: 3\n",
        "Tag der Woche: Montag\n",
        "Tageslohn: 25,5 Euro\n",
        "```\n",
        "\n",
        "```\n",
        "Stundenlohn: 12,5\n",
        "Geleistete Arbeitsstunden: 10\n",
        "Tag der Woche: Sonntag\n",
        "Tageslohn: 250,0 Euro\n",
        "```"
      ],
      "metadata": {
        "id": "nkEaFCTc5rDb"
      }
    },
    {
      "cell_type": "code",
      "source": [
        "stundenlohn = float(input(\"Wie hoch ist Ihr Stundenlohn?: \"))\n",
        "tag = input(\"Welcher Tag soll berechnet werden?: \")\n",
        "stunden = float(input(\"Wie viele Stunden haben Sie an dem Tag gearbeitet?: \"))\n",
        "tageslohn = stundenlohn * stunden\n",
        "\n",
        "if tag == \"Sonntag\":\n",
        "  print(f\"Ihr Tageslohn beträgt {tageslohn * 2} € da Sie Sonntagszuschläge erhalten haben.\")\n",
        "else:\n",
        "  print(f\"Ihr Tageslohn beträgt: {tageslohn} €.\")"
      ],
      "metadata": {
        "id": "hFK4XMKU53qN",
        "colab": {
          "base_uri": "https://localhost:8080/"
        },
        "outputId": "ffa5a48d-6643-4bd5-9ba3-3ab1ca95e90d"
      },
      "execution_count": 42,
      "outputs": [
        {
          "output_type": "stream",
          "name": "stdout",
          "text": [
            "Wie hoch ist Ihr Stundenlohn?: 14.5\n",
            "Welcher Tag soll berechnet werden?: Sonntag\n",
            "Wie viele Stunden haben Sie an dem Tag gearbeitet?: 7.5\n",
            "Ihr Tageslohn beträgt 217.5 € da Sie Sonntagszuschläge erhalten haben.\n"
          ]
        }
      ]
    },
    {
      "cell_type": "markdown",
      "source": [
        "### Übung 4\n",
        "\n",
        "Dieses Programm berechnet den Bonus, den ein Kunde am Jahresende auf seiner Kundenkarte erhält. Der Bonus wird nach der folgenden Formel berechnet:\n",
        "\n",
        "Wenn weniger als hundert Punkte auf der Karte sind, beträgt der Bonus 10 %.\n",
        "In allen anderen Fällen beträgt der Bonus 15 %.\n",
        "Das Programm sollte wie folgt funktionieren:\n",
        "\n",
        "```\n",
        "Wie viele Punkte befinden sich auf Ihrer Karte? 55\n",
        "Ihr Bonus beträgt 10 %.\n",
        "Sie haben jetzt 60,5 Punkte\n",
        "```\n",
        "Es gibt jedoch ein Problem mit dem Programm, so dass es bei einigen Eingaben nicht ganz richtig funktioniert:\n",
        "\n",
        "```\n",
        "Wie viele Punkte befinden sich auf Ihrer Karte? 95\n",
        "Ihr Bonus beträgt 10 %.\n",
        "Ihr Bonus beträgt 15 %.\n",
        "Sie haben jetzt 120.175 Punkte\n",
        "```\n",
        "Ändere das Programm so, dass es immer entweder einen 10 %- oder einen 15%-Bonus gibt, aber nie beides.\n"
      ],
      "metadata": {
        "id": "tg3Fgqc-6Nf0"
      }
    },
    {
      "cell_type": "code",
      "source": [
        "# Fix den Fehler im Programm\n",
        "points = int(input(\"Wie viele Punkte befinden sich auf Ihrer Karte? \"))\n",
        "if points < 100:\n",
        "    points *= 1.1\n",
        "    print(\"Ihr Bonus beträgt 10 %\")\n",
        "\n",
        "elif points >= 100:\n",
        "    points *= 1.15\n",
        "    print(\"Ihr Bonus beträgt 15 %\")\n",
        "\n",
        "print(\"Sie haben jetzt \", points, \"Punkte\")"
      ],
      "metadata": {
        "id": "cuFZ6z_i6ofK",
        "colab": {
          "base_uri": "https://localhost:8080/"
        },
        "outputId": "0cd8d872-6cc4-4769-e869-4cdf02f00069"
      },
      "execution_count": 48,
      "outputs": [
        {
          "output_type": "stream",
          "name": "stdout",
          "text": [
            "Wie viele Punkte befinden sich auf Ihrer Karte? 95\n",
            "Ihr Bonus beträgt 10 %\n",
            "Sie haben jetzt  104.50000000000001 Punkte\n"
          ]
        }
      ]
    },
    {
      "cell_type": "markdown",
      "source": [
        "### Übung 5\n",
        "\n",
        "Schreube ein Programm, das nach der morgigen Wettervorhersage fragt und dann wetterangepasste Kleidung vorschlägt.\n",
        "\n",
        "Der Vorschlag sollte sich ändern, wenn die Temperatur (gemessen in Grad Celsius) über 20, 10 oder 5 Grad liegt, und auch, wenn Regen auf dem Radar zu sehen ist.\n",
        "\n",
        "Einige Beispiele für das erwartete Verhalten:\n",
        "\n",
        "```\n",
        "Wie lautet die Wettervorhersage für morgen?\n",
        "Temperatur: 21\n",
        "Wird es regnen (ja/nein): nein\n",
        "Trage Jeans und ein T-Shirt\n",
        "```\n",
        "```\n",
        "Wie ist die Wettervorhersage für morgen?\n",
        "Temperatur: 11\n",
        "Wird es regnen (ja/nein): nein\n",
        "Tragen Sie Jeans und ein T-Shirt\n",
        "Ich empfehle auch einen Pullover\n",
        "```\n",
        "```\n",
        "Wie ist die Wettervorhersage für morgen?\n",
        "Temperatur: 7\n",
        "Wird es regnen (ja/nein): nein\n",
        "Tragen Sie Jeans und ein T-Shirt\n",
        "Ich empfehle auch einen Pullover\n",
        "Nehmen Sie eine Jacke mit\n",
        "```\n",
        "```\n",
        "Wie ist die Wettervorhersage für morgen?\n",
        "Temperatur: 3\n",
        "Wird es regnen (ja/nein): ja\n",
        "Tragen Sie Jeans und ein T-Shirt\n",
        "Ich empfehle auch einen Pullover\n",
        "Nehmen Sie eine Jacke mit\n",
        "Es sollte eine warme Jacke sein.\n",
        "Ich denke, Handschuhe sind in Ordnung\n",
        "Vergessen Sie Ihren Regenschirm nicht\n",
        "```"
      ],
      "metadata": {
        "id": "Tv2elh1a61iT"
      }
    },
    {
      "cell_type": "code",
      "source": [
        "print(\"Wie ist die Wettervorhersage für morgen?\")\n",
        "temperatur = int(input(\"Wie viel Grad sollen es werden?: \"))\n",
        "wetter = input(\"Wird es regnen? (ja/nein): \")\n",
        "\n",
        "if temperatur <= 0:\n",
        "  print(\"Ich empfehle Jeans, T-Shirt, Pullover und eine Jacke.\")\n",
        "  print(\"Eine Dicke Jacke.\")\n",
        "  print(\"Und Handschuhe und Schal.\")\n",
        "  print(\"Pack dich wirklich warm ein... es ist arschhh kalt...\")\n",
        "elif temperatur <= 10:\n",
        "  print(\"Ich empfehle Jeans, T-Shirt und Pullover.\")\n",
        "  print(\"Und eine Jacke.\")\n",
        "elif temperatur <= 20:\n",
        "  print(\"Ich empfehle Jeans und T-Shirt.\")\n",
        "  print(\"Und gegebenenfalls einen Pullover.\")\n",
        "elif temperatur <= 30:\n",
        "  print(\"Kurze Klamotten empfehlen sich.\")\n",
        "elif temperatur <= 35:\n",
        "  print(\"Tragen Sie kurze Klamotten!\")\n",
        "  print(\"Und vergessen Sie nicht die Sonnencreme!\")\n",
        "else:\n",
        "  print(\"36 Grad und es wird noch heißer....\")\n",
        "  print(\"Zieh dich aus kleine Maus, mach dich nackig....\")\n",
        "if wetter != \"nein\":\n",
        "  print(\"Nimm dir Regenschirm und Regenklamotten mit!\")"
      ],
      "metadata": {
        "id": "GoK8kqPe7VLi",
        "colab": {
          "base_uri": "https://localhost:8080/"
        },
        "outputId": "eeac0899-9c1f-4795-bcc8-77395fd8e2c8"
      },
      "execution_count": null,
      "outputs": [
        {
          "output_type": "stream",
          "name": "stdout",
          "text": [
            "Wie ist die Wettervorhersage für morgen?\n"
          ]
        }
      ]
    }
  ]
}