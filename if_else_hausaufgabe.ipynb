{
  "nbformat": 4,
  "nbformat_minor": 0,
  "metadata": {
    "colab": {
      "provenance": [],
      "include_colab_link": true
    },
    "kernelspec": {
      "name": "python3",
      "display_name": "Python 3"
    },
    "language_info": {
      "name": "python"
    }
  },
  "cells": [
    {
      "cell_type": "markdown",
      "metadata": {
        "id": "view-in-github",
        "colab_type": "text"
      },
      "source": [
        "<a href=\"https://colab.research.google.com/github/Benjamin-Kurth/myfirstrepository/blob/main/if_else_hausaufgabe.ipynb\" target=\"_parent\"><img src=\"https://colab.research.google.com/assets/colab-badge.svg\" alt=\"Open In Colab\"/></a>"
      ]
    },
    {
      "cell_type": "markdown",
      "source": [
        "# Hausaufgabe\n",
        "Heute haben wir uns mit den Kontrollstrukturen in Python beschäftigt.\n",
        "Im Zuge dessen bearbeitest du heute Nachmittag weitere kleine Aufgaben zu diesem Thema. Nimm dieses Notebook und füge deinen Code hinzu an den passenden Stellen.\n",
        "**Abgabe**: Gehe oben links auf Datei, dann auf Herunterladen, dann auf .ipynb. Dann startet ein Download des Notebooks. Diese heruntergeladene Datei fügst du bitte als Abgabe in den Classroom ein.\n",
        "\n"
      ],
      "metadata": {
        "id": "32gVnQpZ7mQz"
      }
    },
    {
      "cell_type": "markdown",
      "source": [
        "## if-else\n",
        "### Aufgabe 1 (BMI-Index)\n",
        "Berechne den Body-Mass-Index (BMI) und klassifiziere ihn:\n",
        "- < 18.5: Untergewicht\n",
        "- 18.5 - 24.9: Normalgewicht\n",
        "- 25 - 29.9: Übergewicht\n",
        "- 30+: Adipositas\n",
        "\n",
        "Zusatzaufgabe: Füge eine input-Funktion hinzu, damit du beim Ausführen des Codes, eine Eingabe tätigen kannst.\n",
        "Hinweis: `kg = float(input(\"Bitte gib dein Gewicht ein: \"))`"
      ],
      "metadata": {
        "id": "9pZQdBfN8GDV"
      }
    },
    {
      "cell_type": "code",
      "source": [
        "Gewicht_in_kg = float(input(\"Bitte gib dein Gewicht ein:\"))\n",
        "Größe_in_meter = float(input(\"Bitte gib deine Größe ein (in meter):\"))\n",
        "BMI = Gewicht_in_kg / (Größe_in_meter ** 2)\n",
        "print(\"Dein BMI beträgt:\", BMI)\n",
        "if BMI < 18.5:\n",
        "  print(\"Du hast Untergewicht.\")\n",
        "elif BMI <= 24.9:\n",
        "  print(\" Du hast Normalgewicht.\")\n",
        "elif BMI <= 29.9:\n",
        "  print(\"Du hast Übergewicht.\")\n",
        "else:\n",
        "  print(\"Du leidest an Adipositas.\")\n",
        "\n",
        "\n"
      ],
      "metadata": {
        "id": "54YQr9hA8i95",
        "colab": {
          "base_uri": "https://localhost:8080/"
        },
        "outputId": "c7bf495c-4647-4b68-8ff7-0f8cd77529c0"
      },
      "execution_count": 16,
      "outputs": [
        {
          "output_type": "stream",
          "name": "stdout",
          "text": [
            "Bitte gib dein Gewicht ein:73\n",
            "Bitte gib deine Größe ein (in meter):1.82\n",
            "Dein BMI beträgt: 22.03840115928028\n",
            " Du hast Normalgewicht.\n"
          ]
        }
      ]
    },
    {
      "cell_type": "markdown",
      "source": [
        "### Beispiel-Aufgabe zum Modulo-Operator (Division mit Rest)\n",
        "Schreibe ein Programm, das eine Zahl überprüft und ausgibt, ob die Zahl durch 3 teilbar ist.\n",
        "Modulo-Operator in Python --> `%`"
      ],
      "metadata": {
        "id": "Q-j4zOXLGJeP"
      }
    },
    {
      "cell_type": "code",
      "source": [
        "zahl = 6\n",
        "if ((zahl % 3) == 0):\n",
        "  print(\"Zahl ist durch 3 teilbar\")\n",
        "else:\n",
        "  print(\"Zahl ist nicht durch 3 teilbar\")"
      ],
      "metadata": {
        "colab": {
          "base_uri": "https://localhost:8080/"
        },
        "id": "U1Vm_NNfGWMi",
        "outputId": "c210105e-107c-40b9-c23d-ed0fd9756d4c"
      },
      "execution_count": 17,
      "outputs": [
        {
          "output_type": "stream",
          "name": "stdout",
          "text": [
            "Zahl ist durch 3 teilbar\n"
          ]
        }
      ]
    },
    {
      "cell_type": "markdown",
      "source": [
        "### Aufgabe 2 (Schaltjahr)\n",
        "Ein Jahr ist ein Schaltjahr, wenn es durch 4 teilbar (Achtung: modulo-Operator) ist, außer es ist durch 100 teilbar – außer es ist durch 400 teilbar.\n",
        "\n",
        "Zusatzaufgabe: Füge eine input-Funktion hinzu, damit du beim Ausführen des Codes, eine Eingabe tätigen kannst."
      ],
      "metadata": {
        "id": "Tz0qkYnt8jIk"
      }
    },
    {
      "cell_type": "code",
      "source": [
        "Jahr = int(input(\"Welches Jahr haben wir?:\"))\n",
        "if (Jahr % 4 == 0 and Jahr % 100 != 0) or (Jahr % 400 == 0):\n",
        "  print(\"Das Jahr ist ein Schaltjahr.\")\n",
        "else:\n",
        "  print(\"Das Jahr ist kein Schaltjahr.\")"
      ],
      "metadata": {
        "id": "Yj2Kb2rG8rhM",
        "colab": {
          "base_uri": "https://localhost:8080/"
        },
        "outputId": "4ef947e8-a46d-4944-e62e-1a86a536e9be"
      },
      "execution_count": 62,
      "outputs": [
        {
          "output_type": "stream",
          "name": "stdout",
          "text": [
            "Welches Jahr haben wir?:2025\n",
            "Das Jahr ist kein Schaltjahr.\n"
          ]
        }
      ]
    },
    {
      "cell_type": "code",
      "source": [],
      "metadata": {
        "id": "vdSUpyc9dJoX"
      },
      "execution_count": null,
      "outputs": []
    },
    {
      "cell_type": "markdown",
      "source": [
        "### Aufgabe 3 (Rabatt)\n",
        "Wenn ein Einkaufswert über 100€ liegt, gibt es 10% Rabatt, ansonsten keinen. Berechne den Endpreis.\n",
        "Zusatzaufgabe: Füge eine input-Funktion hinzu, damit du beim Ausführen des Codes, eine Eingabe tätigen kannst."
      ],
      "metadata": {
        "id": "aIckDaYu8sBi"
      }
    },
    {
      "cell_type": "code",
      "source": [
        "Einkaufswert = float(input(\"Der Einkaufswert beträgt:\"))\n",
        "Rabatt = Einkaufswert / 10\n",
        "Betrag = Einkaufswert - Rabatt\n",
        "if Einkaufswert > 100:\n",
        "  Rabatt\n",
        "  print(\"Ihr Rabatt beträgt:\", Rabatt)\n",
        "  Betrag\n",
        "  print(\"Sie zahlen nur:\", Betrag)\n",
        "else:\n",
        "  print(\"Sie zahlen:\", Einkaufswert)"
      ],
      "metadata": {
        "id": "iplaWFpB8ycy",
        "colab": {
          "base_uri": "https://localhost:8080/"
        },
        "outputId": "e9ccbf9b-748e-4db0-aeb4-f2424aa100df"
      },
      "execution_count": 55,
      "outputs": [
        {
          "output_type": "stream",
          "name": "stdout",
          "text": [
            "Der Einkaufswert beträgt:198.34\n",
            "Ihr Rabatt beträgt: 19.834\n",
            "Sie zahlen nur: 178.506\n"
          ]
        }
      ]
    },
    {
      "cell_type": "markdown",
      "source": [
        "## Datentypen\n",
        "### Aufgabe 1\n",
        "Initialisiere Variablen mit den Werten\n",
        "- 42\n",
        "- 3.14\n",
        "- \"Hallo Welt\"\n",
        "- True\n",
        "- [1,2,3]\n",
        "- (1,2)\n",
        "- {\"name\": \"Max\", \"alter\": 22}\n"
      ],
      "metadata": {
        "id": "Em4WQGm888Mc"
      }
    },
    {
      "cell_type": "code",
      "source": [
        "Alter = 42\n",
        "Ausgaben = 3.14\n",
        "Aussage = \"Hallo Welt\"\n",
        "Fakt = True\n",
        "Aufzählung = [1,2,3]\n",
        "Nummerierung = (1,2)\n",
        "Personalien = (\"Name:\"\"Benny\",\"Alter:\"\"33\")\n",
        "print(Alter,Ausgaben,Aussage,Fakt,Aufzählung,Nummerierung,Personalien)"
      ],
      "metadata": {
        "id": "JOudTf8Q9aPJ",
        "colab": {
          "base_uri": "https://localhost:8080/"
        },
        "outputId": "d7c6b99e-1d21-4141-92ce-7eb59450aaba"
      },
      "execution_count": 68,
      "outputs": [
        {
          "output_type": "stream",
          "name": "stdout",
          "text": [
            "42 3.14 Hallo Welt True [1, 2, 3] (1, 2) ('Name:Benny', 'Alter:33')\n"
          ]
        }
      ]
    },
    {
      "cell_type": "markdown",
      "source": [
        "### Aufgabe 2\n",
        "Bestimme jeweils um welche Art des Datentyps es sich handelt"
      ],
      "metadata": {
        "id": "gnrmw0w79abL"
      }
    },
    {
      "cell_type": "code",
      "source": [
        "Alter = 42\n",
        "Ausgaben = 3.14\n",
        "Aussage = \"Hallo Welt\"\n",
        "Fakt = True\n",
        "Aufzählung = [1,2,3]\n",
        "Nummerierung = (1,2)\n",
        "Personalien = (\"Name:\"\"Benny\"\"Alter:\"\"33\")\n",
        "print(type(Alter))\n",
        "print(type(Ausgaben))\n",
        "print(type(Aussage))\n",
        "print(type(Fakt))\n",
        "print(type(Aufzählung))\n",
        "print(type(Nummerierung))\n",
        "print(type(Personalien))"
      ],
      "metadata": {
        "id": "4BLN1V1Ee2Nj",
        "outputId": "a5d749dd-4b32-4ae6-8e46-00a40768a01c",
        "colab": {
          "base_uri": "https://localhost:8080/"
        }
      },
      "execution_count": 70,
      "outputs": [
        {
          "output_type": "stream",
          "name": "stdout",
          "text": [
            "<class 'int'>\n",
            "<class 'float'>\n",
            "<class 'str'>\n",
            "<class 'bool'>\n",
            "<class 'list'>\n",
            "<class 'tuple'>\n",
            "<class 'str'>\n"
          ]
        }
      ]
    },
    {
      "cell_type": "markdown",
      "source": [
        "### Aufgabe 3\n",
        "Recherchiere nach dem Begriff Duck Typing in Python. Was bedeutet das?"
      ],
      "metadata": {
        "id": "Q1HHvqkv9cgx"
      }
    },
    {
      "cell_type": "markdown",
      "source": [],
      "metadata": {
        "id": "mOfhQQUK9lhu"
      }
    }
  ]
}